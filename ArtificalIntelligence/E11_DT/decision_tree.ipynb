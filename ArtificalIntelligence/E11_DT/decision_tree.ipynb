{
 "nbformat": 4,
 "nbformat_minor": 2,
 "metadata": {
  "language_info": {
   "name": "python",
   "codemirror_mode": {
    "name": "ipython",
    "version": 3
   },
   "version": "3.6.2"
  },
  "orig_nbformat": 2,
  "file_extension": ".py",
  "mimetype": "text/x-python",
  "name": "python",
  "npconvert_exporter": "python",
  "pygments_lexer": "ipython3",
  "version": 3
 },
 "cells": [
  {
   "cell_type": "code",
   "execution_count": 5,
   "metadata": {},
   "outputs": [],
   "source": [
    "import pandas as pd\n",
    "import numpy as np\n",
    "\n",
    "discrete_dict = {\"age\":0, \"workclass\":1, \"fnlwgt\":0, \"education\":1, \"education-num\":0, \"marital-status\":1, \"occupation\":1, \"relationship\":1, \"race\":1, \"sex\":1, \"capital-gain\":0, \"capital-loss\":0, \"hours-per-week\":0, \"native-country\":1, \"salary\":0}\n",
    "\n",
    "train_data = pd.read_csv(\"adult.data\",names=[\"age\",\"workclass\",\"fnlwgt\",\"education\",\"education-num\",\"marital-status\",\"occupation\",\"relationship\",\"race\",\"sex\",\"capital-gain\",\"capital-loss\",\"hours-per-week\",\"native-country\",\"salary\"],index_col=False)\n",
    "cut = int(0.9 * len(train_data))\n",
    "train_data, validation_data = train_data[:cut], train_data[cut:]\n",
    "test_data = pd.read_csv(\"adult.test\",names=[\"age\",\"workclass\",\"fnlwgt\",\"education\",\"education-num\",\"marital-status\",\"occupation\",\"relationship\",\"race\",\"sex\",\"capital-gain\",\"capital-loss\",\"hours-per-week\",\"native-country\",\"salary\"],index_col=False,header=0)\n",
    "\n",
    "attributes = [\"workclass\",\"education\",\"marital-status\",\"occupation\",\"relationship\",\"race\",\"sex\",\"native-country\",\"salary\"]\n",
    "train_data = train_data[attributes] # only discrete values\n",
    "test_data = test_data[attributes] # only discrete values\n",
    "\n",
    "# fill in ?\n",
    "def fill_data(data):\n",
    "    for a in attributes:\n",
    "        a_col = data[a]\n",
    "        a_col[a_col == \" ?\"] = data[a].value_counts().argmax()\n",
    "\n",
    "fill_data(train_data)\n",
    "fill_data(test_data)"
   ]
  },
  {
   "cell_type": "code",
   "execution_count": 3,
   "metadata": {},
   "outputs": [],
   "source": [
    "def entropy(p):\n",
    "    if p.ndim == 1:\n",
    "        new_p = p[p != 0]\n",
    "        return -np.sum(new_p * np.log2(new_p))\n",
    "    else:\n",
    "        # new_p = p[(p[:,0] != 0) & (p[:,1] != 0)]\n",
    "        return -np.sum(p * np.log2(p),axis=1)\n",
    "\n",
    "def information_gain(D,a):\n",
    "    pk = D[\"salary\"].value_counts(normalize=True).values\n",
    "    prop_Dv = D[a].value_counts(normalize=True).values # proportion\n",
    "    prob_Dv = np.array([D.loc[D[a] == av][\"salary\"].value_counts(normalize=True).get(\" >50K\",0) for av in D[a].unique()])\n",
    "    pp_stack = np.column_stack((prop_Dv,prob_Dv))\n",
    "    pp_stack = pp_stack[(pp_stack[:,1] != 0) & (pp_stack[:,1] != 1)]\n",
    "    prop_Dv = pp_stack[:,0]\n",
    "    prob_Dv = pp_stack[:,1]\n",
    "    prob_Dv_neg = 1 - prob_Dv\n",
    "    return entropy(pk) - np.sum(prop_Dv * entropy(np.column_stack((prob_Dv,prob_Dv_neg))))\n",
    "\n",
    "cnt = 0\n",
    "class Node:\n",
    "\n",
    "    def __init__(self):\n",
    "        self.branch = {}\n",
    "\n",
    "    def setLeaf(self,catagory):\n",
    "        global cnt\n",
    "        cnt += 1\n",
    "        if cnt % 100 == 0:\n",
    "            print(\"{} - Create leaf: {}\".format(cnt,catagory),flush=True)\n",
    "        self.label = \"Leaf\"\n",
    "        self.catagory = catagory\n",
    "        \n",
    "    def setBranch(self,attr,value,node):\n",
    "        # print(\"Create branch: {} ({})\".format(attr,value),flush=True)\n",
    "        self.label = \"Branch\"\n",
    "        self.attr = attr\n",
    "        self.branch[value] = node\n",
    "\n",
    "class ID3:\n",
    "\n",
    "    def __init__(self,train_set=None,validation_set=None,test_set=None):\n",
    "        self.train_set = train_set\n",
    "        self.validation_set = validation_set\n",
    "        self.test_set = test_set\n",
    "\n",
    "    def TreeGenerate(self,dataset,attributes):\n",
    "        catagory = dataset[\"salary\"].unique()\n",
    "        node = Node()\n",
    "        if len(catagory) == 1:\n",
    "            node.setLeaf(catagory[0])\n",
    "            return node\n",
    "        if len(attributes) == 0 or np.sum([len(dataset[a].unique()) for a in attributes]) == len(attributes):\n",
    "            node.setLeaf(dataset[\"salary\"].value_counts().argmax())\n",
    "            return node\n",
    "        # print(\"Get here!\",flush=True)\n",
    "        max_gain = -0x3f3f3f3f\n",
    "        for a in attributes:\n",
    "            gain = information_gain(dataset,a)\n",
    "            if gain > max_gain:\n",
    "                a_best, max_gain = a, gain\n",
    "        for av in self.train_set[a_best].unique(): # be careful, not dataset!\n",
    "            Dv = dataset[dataset[a_best] == av]\n",
    "            if len(Dv) == 0:\n",
    "                node.setLeaf(dataset[\"salary\"].value_counts().argmax())\n",
    "                return node\n",
    "            node.setBranch(a_best,av,self.TreeGenerate(Dv,attributes[attributes != a_best]))\n",
    "        return node\n",
    "\n",
    "    def train(self,train_set=None):\n",
    "        if train_set != None:\n",
    "            self.train_set = train_set\n",
    "        self.root = self.TreeGenerate(self.train_set,self.train_set.columns.values[:-1])\n",
    "\n",
    "    def validation(self,validation_set=None):\n",
    "        if validation_set != None:\n",
    "            self.validation_set = validation_set\n",
    "        acc = 0\n",
    "        for i,row in self.validation_set.iterrows():\n",
    "            p = self.root\n",
    "            while p.label != \"Leaf\":\n",
    "                p = p.branch[row[p.attr]]\n",
    "            if p.catagory == row[\"salary\"][:-1]: # be careful of \".\"\n",
    "                acc += 1\n",
    "        acc /= len(self.validation_set)\n",
    "        return acc\n",
    "\n",
    "    def test(self,test_set=None):\n",
    "        if test_set != None:\n",
    "            self.test_set = test_set\n",
    "        acc = 0\n",
    "        for i,row in self.test_set.iterrows():\n",
    "            p = self.root\n",
    "            while p.label != \"Leaf\":\n",
    "                p = p.branch[row[p.attr]]\n",
    "            if p.catagory == row[\"salary\"][:-1]: # be careful of \".\"\n",
    "                acc += 1\n",
    "        acc /= len(self.test_set)\n",
    "        print(\"Accurary: {:.2f}%\".format(acc * 100))\n",
    "        return acc"
   ]
  },
  {
   "cell_type": "code",
   "execution_count": 4,
   "metadata": {},
   "outputs": [
    {
     "name": "stdout",
     "output_type": "stream",
     "text": "100 - Create leaf:  >50K\n200 - Create leaf:  <=50K\n300 - Create leaf:  <=50K\n400 - Create leaf:  <=50K\n500 - Create leaf:  <=50K\n600 - Create leaf:  >50K\n700 - Create leaf:  <=50K\n800 - Create leaf:  <=50K\n900 - Create leaf:  <=50K\n1000 - Create leaf:  >50K\n1100 - Create leaf:  >50K\n1200 - Create leaf:  >50K\n1300 - Create leaf:  <=50K\n1400 - Create leaf:  <=50K\n1500 - Create leaf:  <=50K\n1600 - Create leaf:  <=50K\n1700 - Create leaf:  <=50K\n1800 - Create leaf:  <=50K\n1900 - Create leaf:  <=50K\n"
    }
   ],
   "source": [
    "dt = ID3(train_set=train_data,validation_set=validation_data,test_set=test_data)\n",
    "dt.train()"
   ]
  },
  {
   "cell_type": "code",
   "execution_count": 18,
   "metadata": {},
   "outputs": [
    {
     "name": "stdout",
     "output_type": "stream",
     "text": "82.18\n"
    }
   ],
   "source": [
    "# dt.test(test_data)\n",
    "acc = 0\n",
    "for i,row in test_data.iterrows():\n",
    "    p = dt.root\n",
    "    while p.label != \"Leaf\":\n",
    "        p = p.branch[row[p.attr]]\n",
    "    if p.catagory == row[\"salary\"][:-1]:\n",
    "        acc += 1\n",
    "print(\"{:.2f}\".format(acc / len(test_data)*100))"
   ]
  },
  {
   "cell_type": "code",
   "execution_count": 20,
   "metadata": {},
   "outputs": [
    {
     "data": {
      "text/html": "<div>\n<style>\n    .dataframe thead tr:only-child th {\n        text-align: right;\n    }\n\n    .dataframe thead th {\n        text-align: left;\n    }\n\n    .dataframe tbody tr th {\n        vertical-align: top;\n    }\n</style>\n<table border=\"1\" class=\"dataframe\">\n  <thead>\n    <tr style=\"text-align: right;\">\n      <th></th>\n      <th>workclass</th>\n      <th>education</th>\n      <th>marital-status</th>\n      <th>occupation</th>\n      <th>relationship</th>\n      <th>race</th>\n      <th>sex</th>\n      <th>native-country</th>\n      <th>salary</th>\n    </tr>\n  </thead>\n  <tbody>\n    <tr>\n      <th>0</th>\n      <td>State-gov</td>\n      <td>Bachelors</td>\n      <td>Never-married</td>\n      <td>Adm-clerical</td>\n      <td>Not-in-family</td>\n      <td>White</td>\n      <td>Male</td>\n      <td>United-States</td>\n      <td>&lt;=50K</td>\n    </tr>\n    <tr>\n      <th>1</th>\n      <td>Self-emp-not-inc</td>\n      <td>Bachelors</td>\n      <td>Married-civ-spouse</td>\n      <td>Exec-managerial</td>\n      <td>Husband</td>\n      <td>White</td>\n      <td>Male</td>\n      <td>United-States</td>\n      <td>&lt;=50K</td>\n    </tr>\n    <tr>\n      <th>2</th>\n      <td>Private</td>\n      <td>HS-grad</td>\n      <td>Divorced</td>\n      <td>Handlers-cleaners</td>\n      <td>Not-in-family</td>\n      <td>White</td>\n      <td>Male</td>\n      <td>United-States</td>\n      <td>&lt;=50K</td>\n    </tr>\n    <tr>\n      <th>3</th>\n      <td>Private</td>\n      <td>11th</td>\n      <td>Married-civ-spouse</td>\n      <td>Handlers-cleaners</td>\n      <td>Husband</td>\n      <td>Black</td>\n      <td>Male</td>\n      <td>United-States</td>\n      <td>&lt;=50K</td>\n    </tr>\n    <tr>\n      <th>4</th>\n      <td>Private</td>\n      <td>Bachelors</td>\n      <td>Married-civ-spouse</td>\n      <td>Prof-specialty</td>\n      <td>Wife</td>\n      <td>Black</td>\n      <td>Female</td>\n      <td>Cuba</td>\n      <td>&lt;=50K</td>\n    </tr>\n  </tbody>\n</table>\n</div>",
      "text/plain": "           workclass   education       marital-status          occupation  \\\n0          State-gov   Bachelors        Never-married        Adm-clerical   \n1   Self-emp-not-inc   Bachelors   Married-civ-spouse     Exec-managerial   \n2            Private     HS-grad             Divorced   Handlers-cleaners   \n3            Private        11th   Married-civ-spouse   Handlers-cleaners   \n4            Private   Bachelors   Married-civ-spouse      Prof-specialty   \n\n     relationship    race      sex  native-country  salary  \n0   Not-in-family   White     Male   United-States   <=50K  \n1         Husband   White     Male   United-States   <=50K  \n2   Not-in-family   White     Male   United-States   <=50K  \n3         Husband   Black     Male   United-States   <=50K  \n4            Wife   Black   Female            Cuba   <=50K  "
     },
     "execution_count": 20,
     "metadata": {},
     "output_type": "execute_result"
    }
   ],
   "source": [
    "train_data[:5]"
   ]
  },
  {
   "cell_type": "code",
   "execution_count": null,
   "metadata": {},
   "outputs": [],
   "source": []
  }
 ]
}