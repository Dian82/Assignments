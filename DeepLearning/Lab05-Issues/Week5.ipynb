{
 "cells": [
  {
   "cell_type": "markdown",
   "metadata": {},
   "source": [
    "# Week 5. Training Issues\n",
    "Through the previous learning, you may have already known how to train a model from scratch. In this part, we will firstly review the whole training process by setting up a classification network on MNIST dataset. Then we will highlight some useful tricks to improve the model performance.\n",
    "\n",
    "If you have any questions or suggestions about this part, please feel free to contact the teaching assistants Wanying Tao and Jianfei Xing on WeChat.\n",
    "  "
   ]
  },
  {
   "cell_type": "code",
   "execution_count": 1,
   "metadata": {
    "ExecuteTime": {
     "end_time": "2019-03-21T14:21:42.762786Z",
     "start_time": "2019-03-21T14:21:42.753422Z"
    }
   },
   "outputs": [],
   "source": [
    "%load_ext autoreload\n",
    "%autoreload 2"
   ]
  },
  {
   "cell_type": "markdown",
   "metadata": {},
   "source": [
    "## 1. Common Setup"
   ]
  },
  {
   "cell_type": "code",
   "execution_count": 2,
   "metadata": {
    "ExecuteTime": {
     "end_time": "2019-03-21T14:21:43.871351Z",
     "start_time": "2019-03-21T14:21:43.472080Z"
    }
   },
   "outputs": [],
   "source": [
    "import torch\n",
    "import numpy as np\n",
    "import torch.nn as nn\n",
    "import torch.nn.functional as F\n",
    "import torch.optim as optim\n",
    "# from torchvision.datasets import MNIST\n",
    "import torchvision\n",
    "from torchvision import transforms\n",
    "from torch.optim import lr_scheduler\n",
    "from collections import OrderedDict\n",
    "import matplotlib.pyplot as plt"
   ]
  },
  {
   "cell_type": "code",
   "execution_count": 3,
   "metadata": {
    "ExecuteTime": {
     "end_time": "2019-03-21T14:21:43.880674Z",
     "start_time": "2019-03-21T14:21:43.872738Z"
    }
   },
   "outputs": [],
   "source": [
    "# cuda = torch.cuda.is_available() \n",
    "# torch.cuda.set_device(device) \n",
    "\n",
    "# Limited by GPU resources, we recommend computing on CPU\n",
    "# device = torch.device('cpu')\n",
    "device = torch.device('cuda') "
   ]
  },
  {
   "cell_type": "markdown",
   "metadata": {},
   "source": [
    "## 2. Classfication Model"
   ]
  },
  {
   "cell_type": "code",
   "execution_count": 4,
   "metadata": {
    "ExecuteTime": {
     "end_time": "2019-03-21T14:21:46.327672Z",
     "start_time": "2019-03-21T14:21:46.308085Z"
    }
   },
   "outputs": [],
   "source": [
    "class FeedForwardNeuralNetwork(nn.Module):\n",
    "    \"\"\"\n",
    "    Inputs                Linear/Function        Output\n",
    "    [128, 1, 28, 28]   -> Linear(28*28, 100) -> [128, 100]  # the first hidden layer\n",
    "                       -> ReLU               -> [128, 100]  # ReLU activation function, may Sigmoid\n",
    "                       -> Linear(100, 100)   -> [128, 100]  # the second hidden layer\n",
    "                       -> ReLU               -> [128, 100]  # ReLU activation function, may Sigmoid\n",
    "                       -> Linear(100, 100)   -> [128, 100]  # the third hidden layer\n",
    "                       -> ReLU               -> [128, 100]  # ReLU activation function, may Sigmoid\n",
    "                       -> Linear(100, 10)    -> [128, 10]   # classification layer                                                          \n",
    "   \"\"\"\n",
    "    def __init__(self, input_size, hidden_size, output_size, activation_function='RELU'):\n",
    "        super(FeedForwardNeuralNetwork, self).__init__()\n",
    "        self.use_dropout = False\n",
    "        self.use_bn = False\n",
    "        self.hidden1 = nn.Linear(input_size, hidden_size)  # Linear function 1: 784 --> 100 \n",
    "        self.hidden2 = nn.Linear(hidden_size, hidden_size) # Linear function 2: 100 --> 100\n",
    "        self.hidden3 = nn.Linear(hidden_size, hidden_size) # Linear function 3: 100 --> 100\n",
    "        # Linear function 4 (readout): 100 --> 10\n",
    "        self.classification_layer = nn.Linear(hidden_size, output_size)\n",
    "        self.dropout = nn.Dropout(p=0.5) # Drop out with prob = 0.5\n",
    "        self.hidden1_bn = nn.BatchNorm1d(hidden_size) # Batch Normalization \n",
    "        self.hidden2_bn = nn.BatchNorm1d(hidden_size)\n",
    "        self.hidden3_bn = nn.BatchNorm1d(hidden_size)\n",
    "        \n",
    "        # Non-linearity\n",
    "        if activation_function == 'SIGMOID':\n",
    "            self.activation_function1 = nn.Sigmoid()\n",
    "            self.activation_function2 = nn.Sigmoid()\n",
    "            self.activation_function3 = nn.Sigmoid()\n",
    "        elif activation_function == 'RELU':\n",
    "            self.activation_function1 = nn.ReLU()\n",
    "            self.activation_function2 = nn.ReLU()\n",
    "            self.activation_function3 = nn.ReLU()\n",
    "        \n",
    "    def forward(self, x):\n",
    "        \"\"\"\n",
    "        Args:\n",
    "            x: [batch_size, channel, height, width], network input\n",
    "        Returns:\n",
    "            out: [batch_size, n_classes], network output\n",
    "        \"\"\"\n",
    "        \n",
    "        x = x.view(x.size(0), -1) # flatten x in [128, 784]\n",
    "        out = self.hidden1(x)\n",
    "        out = self.activation_function1(out) # Non-linearity 1\n",
    "        if self.use_bn == True:\n",
    "            out = self.hidden1_bn(out)\n",
    "        out = self.hidden2(out)\n",
    "        out = self.activation_function2(out)\n",
    "        if self.use_bn == True:\n",
    "            out = self.hidden2_bn(out)\n",
    "        out = self.hidden3(out)\n",
    "        if self.use_bn == True:\n",
    "            out = self.hidden3_bn(out)\n",
    "        out = self.activation_function3(out)\n",
    "        if self.use_dropout == True:\n",
    "            out = self.dropout(out)\n",
    "        out = self.classification_layer(out)\n",
    "        return out\n",
    "    \n",
    "    def set_use_dropout(self, use_dropout):\n",
    "        \"\"\"Whether to use dropout. Auxiliary function for our exp, not necessary.\n",
    "        Args:\n",
    "            use_dropout: True, False\n",
    "        \"\"\"\n",
    "        self.use_dropout = use_dropout\n",
    "        \n",
    "    def set_use_bn(self, use_bn):\n",
    "        \"\"\"Whether to use batch normalization. Auxiliary function for our exp, not necessary.\n",
    "        Args:\n",
    "            use_bn: True, False\n",
    "        \"\"\"\n",
    "        self.use_bn = use_bn\n",
    "        \n",
    "    def get_grad(self):\n",
    "        \"\"\"Return average grad for hidden2, hidden3. Auxiliary function for our exp, not necessary.\n",
    "        \"\"\"\n",
    "        hidden2_average_grad = np.mean(np.sqrt(np.square(self.hidden2.weight.grad.detach().to(\"cpu\").numpy())))\n",
    "        hidden3_average_grad = np.mean(np.sqrt(np.square(self.hidden3.weight.grad.detach().to(\"cpu\").numpy())))\n",
    "        return hidden2_average_grad, hidden3_average_grad"
   ]
  },
  {
   "cell_type": "markdown",
   "metadata": {},
   "source": [
    "## 3. Training  "
   ]
  },
  {
   "cell_type": "markdown",
   "metadata": {
    "ExecuteTime": {
     "end_time": "2019-03-17T07:40:23.774920Z",
     "start_time": "2019-03-17T07:40:23.769858Z"
    }
   },
   "source": [
    "### 3.1 Pre-set hyper-parameters\n",
    "* learning rate: usually set the learning rate to 1e-1, 1e-2 or 1e-3, and gradually decrease its value during iteration.\n",
    "* n_epochs: training epoch must be set large enough to ensure that the model can converge. \n",
    "* batch_size: bigger batch size means better usage of GPU and less time for model to converge, generally use the exponent power of 2, e.g., 2, 4, 8, 16, 32, 64, 128, 256.  "
   ]
  },
  {
   "cell_type": "code",
   "execution_count": 5,
   "metadata": {
    "ExecuteTime": {
     "end_time": "2019-03-21T14:21:47.253279Z",
     "start_time": "2019-03-21T14:21:47.243176Z"
    }
   },
   "outputs": [],
   "source": [
    "### Hyper parameters\n",
    "\n",
    "batch_size = 128 # batch size is 128\n",
    "n_epochs = 5 # train 5 epochs\n",
    "learning_rate = 0.01 # learning rate is 0.01\n",
    "input_size = 28*28 # tthe size of image is 28x28\n",
    "hidden_size = 100 # 100 hidden neurons in each layer\n",
    "output_size = 10 # classes of prediction\n",
    "l2_norm = 0 # not to use l2 penalty\n",
    "dropout = False # not to use dropout\n",
    "get_grad = False # not to obtain grad"
   ]
  },
  {
   "cell_type": "code",
   "execution_count": 6,
   "metadata": {
    "ExecuteTime": {
     "end_time": "2019-03-21T14:21:47.842655Z",
     "start_time": "2019-03-21T14:21:47.827237Z"
    }
   },
   "outputs": [],
   "source": [
    "# create a model object\n",
    "model = FeedForwardNeuralNetwork(input_size=input_size, hidden_size=hidden_size, output_size=output_size)\n",
    "# loss function\n",
    "loss_fn = torch.nn.CrossEntropyLoss()\n",
    "# l2_norm can be done in SGD\n",
    "optimizer = torch.optim.SGD(model.parameters(), lr=learning_rate, weight_decay=l2_norm) "
   ]
  },
  {
   "cell_type": "markdown",
   "metadata": {},
   "source": [
    "### 3.2 Initialize model parameters\n",
    "PyTorch provides default initialization (**uniform intialization**) for linear layer, and there are also some other useful initialization methods you may use in the homework.\n",
    "\n",
    "Click on this [link](https://pytorch.org/docs/stable/_modules/torch/nn/init.html) for more details."
   ]
  },
  {
   "cell_type": "code",
   "execution_count": 45,
   "metadata": {
    "ExecuteTime": {
     "end_time": "2019-03-21T14:21:48.832921Z",
     "start_time": "2019-03-21T14:21:48.814998Z"
    }
   },
   "outputs": [],
   "source": [
    "def show_weight_bias(model):\n",
    "    \"\"\"Show weights and bias distribution. \n",
    "    \"\"\"\n",
    "    # Create a figure and a set of subplots\n",
    "    fig, axs = plt.subplots(2,3, sharey=False, tight_layout=True)\n",
    "    \n",
    "    # weight and bias for every hidden layer\n",
    "    h1_w = model.hidden1.weight.detach().to(\"cpu\").numpy().flatten()\n",
    "    h1_b = model.hidden1.bias.detach().to(\"cpu\").numpy().flatten()\n",
    "    h2_w = model.hidden2.weight.detach().to(\"cpu\").numpy().flatten()\n",
    "    h2_b = model.hidden2.bias.detach().to(\"cpu\").numpy().flatten()\n",
    "    h3_w = model.hidden3.weight.detach().to(\"cpu\").numpy().flatten()\n",
    "    h3_b = model.hidden3.bias.detach().to(\"cpu\").numpy().flatten()\n",
    "    \n",
    "    axs[0,0].hist(h1_w)\n",
    "    axs[0,1].hist(h2_w)\n",
    "    axs[0,2].hist(h3_w)\n",
    "    axs[1,0].hist(h1_b)\n",
    "    axs[1,1].hist(h2_b)\n",
    "    axs[1,2].hist(h3_b)\n",
    "    \n",
    "    # set title for every sub plots\n",
    "    axs[0,0].set_title('hidden1_weight')\n",
    "    axs[0,1].set_title('hidden2_weight')\n",
    "    axs[0,2].set_title('hidden3_weight')\n",
    "    axs[1,0].set_title('hidden1_bias')\n",
    "    axs[1,1].set_title('hidden2_bias')\n",
    "    axs[1,2].set_title('hidden3_bias')"
   ]
  },
  {
   "cell_type": "code",
   "execution_count": 8,
   "metadata": {
    "ExecuteTime": {
     "end_time": "2019-03-21T14:21:49.873556Z",
     "start_time": "2019-03-21T14:21:49.311764Z"
    }
   },
   "outputs": [
    {
     "data": {
      "image/png": "[encoded data removed]",
      "text/plain": [
       "<Figure size 432x288 with 6 Axes>"
      ]
     },
     "metadata": {
      "needs_background": "light"
     },
     "output_type": "display_data"
    }
   ],
   "source": [
    "show_weight_bias(model)"
   ]
  },
  {
   "cell_type": "code",
   "execution_count": 9,
   "metadata": {
    "ExecuteTime": {
     "end_time": "2019-03-21T14:21:49.883619Z",
     "start_time": "2019-03-21T14:21:49.874868Z"
    }
   },
   "outputs": [],
   "source": [
    "def weight_bias_reset(model):\n",
    "    \"\"\"Custom initialization, you can imitate the code writing to use other initialization methods in homework.\n",
    "    \"\"\"\n",
    "    for m in model.modules():\n",
    "        if isinstance(m, nn.Linear):\n",
    "            mean, std = 0, 0.1 \n",
    "            \n",
    "            torch.nn.init.normal_(m.weight, mean, std)\n",
    "            torch.nn.init.normal_(m.bias, mean, std)\n",
    "            \n",
    "#             m.weight.data.normal_(mean, std)\n",
    "#             m.bias.data.normal_(mean, std)"
   ]
  },
  {
   "cell_type": "markdown",
   "metadata": {},
   "source": [
    "## 作业1\n",
    "使用constant, xavier, kaiming三种方式初始化参数，并显示模型隐藏层的参数分布，不必初始化bias。"
   ]
  },
  {
   "cell_type": "code",
   "execution_count": 10,
   "metadata": {
    "ExecuteTime": {
     "end_time": "2019-03-19T15:07:12.114421Z",
     "start_time": "2019-03-19T15:07:12.106167Z"
    }
   },
   "outputs": [
    {
     "data": {
      "image/png": "[encoded data removed]",
      "text/plain": [
       "<Figure size 432x288 with 6 Axes>"
      ]
     },
     "metadata": {
      "needs_background": "light"
     },
     "output_type": "display_data"
    }
   ],
   "source": [
    "# TODO\n",
    "\n",
    "def weight_bias_reset_constant(model):\n",
    "    \"\"\"Constant initalization\n",
    "    \"\"\"\n",
    "    # remove pass and code here\n",
    "    for mod in model.modules():\n",
    "        if isinstance(mod, nn.Linear):\n",
    "            torch.nn.init.constant_(mod.weight, 0)\n",
    "            # 按照题目要求，没有初始化bias\n",
    "        \n",
    "# Reset parameters and show the distribution\n",
    "weight_bias_reset_constant(model)\n",
    "show_weight_bias(model)"
   ]
  },
  {
   "cell_type": "code",
   "execution_count": 11,
   "metadata": {
    "ExecuteTime": {
     "end_time": "2019-03-19T15:07:12.132231Z",
     "start_time": "2019-03-19T15:07:12.124218Z"
    }
   },
   "outputs": [
    {
     "data": {
      "image/png": "[encoded data removed]",
      "text/plain": [
       "<Figure size 432x288 with 6 Axes>"
      ]
     },
     "metadata": {
      "needs_background": "light"
     },
     "output_type": "display_data"
    }
   ],
   "source": [
    "# TODO\n",
    "\n",
    "def weight_bias_reset_xavier_uniform(model):\n",
    "    \"\"\"xaveir_uniform, gain=1\n",
    "    \"\"\"\n",
    "    # remove pass and code here\n",
    "    for mod in model.modules():\n",
    "        if isinstance(mod, nn.Linear):\n",
    "            torch.nn.init.xavier_uniform_(mod.weight, gain=1.0)\n",
    "        \n",
    "# Reset parameters and show the distribution\n",
    "weight_bias_reset_xavier_uniform(model)\n",
    "show_weight_bias(model)"
   ]
  },
  {
   "cell_type": "code",
   "execution_count": 12,
   "metadata": {
    "ExecuteTime": {
     "end_time": "2019-03-19T15:07:12.149622Z",
     "start_time": "2019-03-19T15:07:12.141658Z"
    }
   },
   "outputs": [
    {
     "data": {
      "image/png": "[encoded data removed]",
      "text/plain": [
       "<Figure size 432x288 with 6 Axes>"
      ]
     },
     "metadata": {
      "needs_background": "light"
     },
     "output_type": "display_data"
    }
   ],
   "source": [
    "# TODO\n",
    "\n",
    "def weight_bias_reset_kaiming_uniform(model):\n",
    "    \"\"\"kaiming_uniform, a=0, mode='fan_in', nonlinearity='relu'\n",
    "    \"\"\"\n",
    "    # remove pass and code here\n",
    "    for mod in model.modules():\n",
    "        if isinstance(mod, nn.Linear):\n",
    "            nn.init.kaiming_uniform_(mod.weight, a=0, mode='fan_in', nonlinearity='leaky_relu')\n",
    "        \n",
    "# Reset parameters and show the distribution\n",
    "weight_bias_reset_kaiming_uniform(model)\n",
    "show_weight_bias(model)"
   ]
  },
  {
   "cell_type": "markdown",
   "metadata": {
    "ExecuteTime": {
     "end_time": "2019-03-17T08:45:10.788689Z",
     "start_time": "2019-03-17T08:45:10.786778Z"
    }
   },
   "source": [
    "### 3.3 Repeat over certain numbers of epoch"
   ]
  },
  {
   "cell_type": "markdown",
   "metadata": {},
   "source": [
    "#### 3.3.1 data loading \n",
    "Please pay attention to data augmentation. \n",
    "\n",
    "Click on this [link](https://pytorch.org/docs/stable/torchvision/transforms.html). for more details.\n",
    "\n",
    "```\n",
    "torchvision.transforms.RandomVerticalFlip\n",
    "torchvision.transforms.RandomHorizontalFlip\n",
    "...\n",
    "```\n"
   ]
  },
  {
   "cell_type": "code",
   "execution_count": 13,
   "metadata": {
    "ExecuteTime": {
     "end_time": "2019-03-21T14:21:55.228109Z",
     "start_time": "2019-03-21T14:21:55.215113Z"
    }
   },
   "outputs": [],
   "source": [
    "train_transform = transforms.Compose([\n",
    "    transforms.ToTensor(), \n",
    "    transforms.Normalize((0.1307,), (0.3081,))\n",
    "])\n",
    "\n",
    "test_transform = transforms.Compose([\n",
    "    transforms.ToTensor(),\n",
    "    transforms.Normalize((0.1307,), (0.3081,))\n",
    "])"
   ]
  },
  {
   "cell_type": "code",
   "execution_count": 14,
   "metadata": {
    "ExecuteTime": {
     "end_time": "2019-03-21T14:21:55.730947Z",
     "start_time": "2019-03-21T14:21:55.695503Z"
    }
   },
   "outputs": [],
   "source": [
    "train_dataset = torchvision.datasets.MNIST(root='./data', \n",
    "                            train=True, \n",
    "                            transform=train_transform,\n",
    "                            download=True)\n",
    "\n",
    "test_dataset = torchvision.datasets.MNIST(root='./data', \n",
    "                           train=False, \n",
    "                           transform=test_transform,\n",
    "                           download=False)"
   ]
  },
  {
   "cell_type": "code",
   "execution_count": 15,
   "metadata": {
    "ExecuteTime": {
     "end_time": "2019-03-21T14:21:56.062415Z",
     "start_time": "2019-03-21T14:21:56.044599Z"
    },
    "scrolled": false
   },
   "outputs": [
    {
     "data": {
      "text/plain": [
       "Dataset MNIST\n",
       "    Number of datapoints: 60000\n",
       "    Root location: ./data\n",
       "    Split: Train\n",
       "    StandardTransform\n",
       "Transform: Compose(\n",
       "               ToTensor()\n",
       "               Normalize(mean=(0.1307,), std=(0.3081,))\n",
       "           )"
      ]
     },
     "execution_count": 15,
     "metadata": {},
     "output_type": "execute_result"
    }
   ],
   "source": [
    "# train_dataset doesn't load any data, it just defines some method and stores some message to preprocess data\n",
    "train_dataset"
   ]
  },
  {
   "cell_type": "code",
   "execution_count": 16,
   "metadata": {
    "ExecuteTime": {
     "end_time": "2019-03-21T14:21:56.599805Z",
     "start_time": "2019-03-21T14:21:56.591383Z"
    }
   },
   "outputs": [],
   "source": [
    "train_loader = torch.utils.data.DataLoader(dataset=train_dataset, \n",
    "                                           batch_size=batch_size, \n",
    "                                           shuffle=False)\n",
    "\n",
    "test_loader = torch.utils.data.DataLoader(dataset=test_dataset, \n",
    "                                          batch_size=batch_size, \n",
    "                                          shuffle=False)"
   ]
  },
  {
   "cell_type": "markdown",
   "metadata": {},
   "source": [
    "#### 3.3.2 model training"
   ]
  },
  {
   "cell_type": "code",
   "execution_count": 17,
   "metadata": {
    "ExecuteTime": {
     "end_time": "2019-03-21T14:22:01.173826Z",
     "start_time": "2019-03-21T14:22:01.163671Z"
    }
   },
   "outputs": [],
   "source": [
    "def train(train_loader, model, loss_fn, optimizer, get_grad=False):\n",
    "    \"\"\"\n",
    "    Args:\n",
    "        train_loader: training data\n",
    "        model: prediction model\n",
    "        loss_fn: loss function to calculate the distance between target and outputs\n",
    "        optimizer: optimize the loss function\n",
    "        get_grad: True, False\n",
    "    Returns:\n",
    "        total_loss: loss\n",
    "        average_grad2: average grad for hidden 2 in this epoch\n",
    "        average_grad3: average grad for hidden 3 in this epoch\n",
    "    \"\"\"\n",
    "    model.train()\n",
    "    \n",
    "    total_loss = 0\n",
    "    grad_2 = 0.0 # store sum(grad) for hidden 2 layer\n",
    "    grad_3 = 0.0 # store sum(grad) for hidden 3 layer\n",
    "    \n",
    "    for batch_idx, (data, target) in enumerate(train_loader):\n",
    "        data, target = data.to(device), target.to(device)\n",
    "        optimizer.zero_grad() \n",
    "        outputs = model(data)\n",
    "        loss = loss_fn(outputs, target)  \n",
    "        total_loss += loss.item() \n",
    "        loss.backward() \n",
    "        \n",
    "        if get_grad == True:\n",
    "            g2, g3 = model.get_grad() # get gradients of hiddern 2 and 3 layer in this batch\n",
    "            grad_2 += g2\n",
    "            grad_3 += g3 \n",
    "            \n",
    "        optimizer.step() \n",
    "            \n",
    "    average_loss = total_loss / batch_idx \n",
    "    average_grad2 = grad_2 / batch_idx \n",
    "    average_grad3 = grad_3 / batch_idx \n",
    "    \n",
    "    return average_loss, average_grad2, average_grad3"
   ]
  },
  {
   "cell_type": "markdown",
   "metadata": {},
   "source": [
    "#### 3.3.3 model evaluation"
   ]
  },
  {
   "cell_type": "code",
   "execution_count": 18,
   "metadata": {
    "ExecuteTime": {
     "end_time": "2019-03-21T14:22:01.396180Z",
     "start_time": "2019-03-21T14:22:01.381555Z"
    }
   },
   "outputs": [],
   "source": [
    "def evaluate(val_loader, model, loss_fn):\n",
    "    \"\"\"\n",
    "    Args:\n",
    "        val_loader: data for evaluation\n",
    "        model: prediction model\n",
    "        loss_fn: loss function to calculate the distance between target and outputs\n",
    "    Returns:\n",
    "        total_loss:loss\n",
    "        accuracy: model prediction accuracy\n",
    "    \"\"\"\n",
    "    with torch.no_grad():\n",
    "        \n",
    "        model.eval()       \n",
    "        correct = 0.0\n",
    "        total_loss = 0  \n",
    "        \n",
    "        for batch_idx, (data, target) in enumerate(val_loader):\n",
    "            data, target = data.to(device), target.to(device)\n",
    "            outputs = model(data) \n",
    "            _, predicted = torch.max(outputs, 1)\n",
    "            correct += (predicted == target).sum().to(\"cpu\").detach().numpy()\n",
    "            loss = loss_fn(outputs, target)\n",
    "            total_loss += loss.item() \n",
    "            \n",
    "        accuracy = correct*100.0 / len(val_loader.dataset) \n",
    "        \n",
    "    return total_loss, accuracy"
   ]
  },
  {
   "cell_type": "code",
   "execution_count": 19,
   "metadata": {
    "ExecuteTime": {
     "end_time": "2019-03-21T14:22:02.178518Z",
     "start_time": "2019-03-21T14:22:02.167029Z"
    }
   },
   "outputs": [],
   "source": [
    "def fit(train_loader, val_loader, model, loss_fn, optimizer, n_epochs, get_grad=False):\n",
    "    \"\"\"\n",
    "    Args: \n",
    "        train_loader: training data\n",
    "        val_loader: validation data\n",
    "        model: prediction model\n",
    "        loss_fn: loss function to calculate the distance between target and outputs\n",
    "        optimizer: optimize the loss function\n",
    "        n_epochs: training epochs\n",
    "        get_grad: whether to get gradients of hidden2 layer and hidden3 layer or not\n",
    "    Returns:\n",
    "        train_accs: accuracy of training n_epochs, a list\n",
    "        train_losses: loss of n_epochs, a list\n",
    "    \"\"\"\n",
    "    \n",
    "    grad_2 = [] \n",
    "    grad_3 = []\n",
    "    \n",
    "    train_accs = [] \n",
    "    train_losses = []\n",
    "    \n",
    "    for epoch in range(n_epochs): \n",
    "        \n",
    "        train_loss, average_grad2, average_grad3 = train(train_loader, model, loss_fn, optimizer, get_grad)\n",
    "        \n",
    "        _, train_accuracy = evaluate(train_loader, model, loss_fn)\n",
    "        message = 'Epoch: {}/{}. Train set: Average loss: {:.4f}, Accuracy: {:.4f}'.format(epoch+1, \\\n",
    "                                                                n_epochs, train_loss, train_accuracy)\n",
    "        print(message)\n",
    "    \n",
    "        # save loss, accuracy, grad\n",
    "        train_accs.append(train_accuracy)\n",
    "        train_losses.append(train_loss)\n",
    "        grad_2.append(average_grad2)\n",
    "        grad_3.append(average_grad3)\n",
    "    \n",
    "        # evaluate model performance on val dataset\n",
    "        val_loss, val_accuracy = evaluate(val_loader, model, loss_fn)\n",
    "        message = 'Epoch: {}/{}. Validation set: Average loss: {:.4f}, Accuracy: {:.4f}'.format(epoch+1, \\\n",
    "                                                                n_epochs, val_loss, val_accuracy)\n",
    "        print(message)\n",
    "        \n",
    "    if get_grad == True:\n",
    "        fig, ax = plt.subplots() \n",
    "        ax.plot(grad_2, label='Gradients of Hidden 2 Layer') \n",
    "        ax.plot(grad_3, label='Gradients of Hidden 3 Layer') \n",
    "        plt.ylim(top=0.004)\n",
    "        # place a legend on axes\n",
    "        legend = ax.legend(loc='best', shadow=True, fontsize='x-large')\n",
    "    \n",
    "    return train_accs, train_losses"
   ]
  },
  {
   "cell_type": "code",
   "execution_count": 20,
   "metadata": {
    "ExecuteTime": {
     "end_time": "2019-03-21T14:22:03.197224Z",
     "start_time": "2019-03-21T14:22:03.186196Z"
    }
   },
   "outputs": [],
   "source": [
    "def show_curve(ys, title):\n",
    "    \"\"\"\n",
    "    Args:\n",
    "        ys: loss or acc list\n",
    "        title: Loss or Accuracy\n",
    "    \"\"\"\n",
    "    x = np.array(range(len(ys)))\n",
    "    y = np.array(ys)\n",
    "    plt.plot(x, y, c='b')\n",
    "    plt.axis()\n",
    "    plt.title('{} Curve:'.format(title))\n",
    "    plt.xlabel('Epoch')\n",
    "    plt.ylabel('{} Value'.format(title))\n",
    "    plt.show()"
   ]
  },
  {
   "cell_type": "markdown",
   "metadata": {
    "ExecuteTime": {
     "end_time": "2019-03-18T05:37:32.874960Z",
     "start_time": "2019-03-18T05:37:32.871828Z"
    }
   },
   "source": [
    "## 作业 2\n",
    "将n_epochs依次设为5和10，画出训练过程中loss和accuracy的变化曲线，分别观察模型在训练集上的拟合情况。\n",
    "\n",
    "Hints: 因为jupyter对变量有上下文关系，模型和优化器需要重新声明。"
   ]
  },
  {
   "cell_type": "code",
   "execution_count": 23,
   "metadata": {
    "ExecuteTime": {
     "end_time": "2019-03-21T14:22:04.832344Z",
     "start_time": "2019-03-21T14:22:04.819950Z"
    }
   },
   "outputs": [],
   "source": [
    "# TODO\n",
    "\n",
    "# set hyper parameters and declare model, optimizer\n",
    "# code here\n",
    "model_5_epoch = FeedForwardNeuralNetwork(input_size=input_size, hidden_size=hidden_size, output_size=output_size).to(device)\n",
    "optimizer_5 = torch.optim.SGD(model_5_epoch.parameters(), lr=learning_rate, weight_decay=l2_norm)\n",
    "model_10_epoch = FeedForwardNeuralNetwork(input_size=input_size, hidden_size=hidden_size, output_size=output_size).to(device)\n",
    "optimizer_10 = torch.optim.SGD(model_10_epoch.parameters(), lr=learning_rate, weight_decay=l2_norm)"
   ]
  },
  {
   "cell_type": "code",
   "execution_count": 24,
   "metadata": {
    "ExecuteTime": {
     "end_time": "2019-03-19T15:08:11.564733Z",
     "start_time": "2019-03-19T15:08:11.555571Z"
    }
   },
   "outputs": [
    {
     "name": "stdout",
     "output_type": "stream",
     "text": [
      "Epoch: 1/5. Train set: Average loss: 1.9120, Accuracy: 77.7417\n",
      "Epoch: 1/5. Validation set: Average loss: 69.7787, Accuracy: 78.2800\n",
      "Epoch: 2/5. Train set: Average loss: 0.5612, Accuracy: 87.3717\n",
      "Epoch: 2/5. Validation set: Average loss: 32.2927, Accuracy: 87.9900\n",
      "Epoch: 3/5. Train set: Average loss: 0.3776, Accuracy: 89.6200\n",
      "Epoch: 3/5. Validation set: Average loss: 26.5033, Accuracy: 89.8800\n",
      "Epoch: 4/5. Train set: Average loss: 0.3214, Accuracy: 90.9283\n",
      "Epoch: 4/5. Validation set: Average loss: 23.2946, Accuracy: 91.1200\n",
      "Epoch: 5/5. Train set: Average loss: 0.2843, Accuracy: 91.9300\n",
      "Epoch: 5/5. Validation set: Average loss: 20.8676, Accuracy: 92.1000\n",
      "Epoch: 1/10. Train set: Average loss: 1.8179, Accuracy: 80.3767\n",
      "Epoch: 1/10. Validation set: Average loss: 59.7393, Accuracy: 80.6400\n",
      "Epoch: 2/10. Train set: Average loss: 0.5246, Accuracy: 87.5367\n",
      "Epoch: 2/10. Validation set: Average loss: 31.8400, Accuracy: 87.9000\n",
      "Epoch: 3/10. Train set: Average loss: 0.3730, Accuracy: 89.7383\n",
      "Epoch: 3/10. Validation set: Average loss: 26.4142, Accuracy: 89.8800\n",
      "Epoch: 4/10. Train set: Average loss: 0.3197, Accuracy: 90.9983\n",
      "Epoch: 4/10. Validation set: Average loss: 23.2687, Accuracy: 91.1300\n",
      "Epoch: 5/10. Train set: Average loss: 0.2841, Accuracy: 91.9567\n",
      "Epoch: 5/10. Validation set: Average loss: 20.9338, Accuracy: 92.0000\n",
      "Epoch: 6/10. Train set: Average loss: 0.2562, Accuracy: 92.7783\n",
      "Epoch: 6/10. Validation set: Average loss: 19.0706, Accuracy: 92.7400\n",
      "Epoch: 7/10. Train set: Average loss: 0.2330, Accuracy: 93.3750\n",
      "Epoch: 7/10. Validation set: Average loss: 17.4908, Accuracy: 93.3600\n",
      "Epoch: 8/10. Train set: Average loss: 0.2131, Accuracy: 93.9517\n",
      "Epoch: 8/10. Validation set: Average loss: 16.0996, Accuracy: 93.9000\n",
      "Epoch: 9/10. Train set: Average loss: 0.1959, Accuracy: 94.4850\n",
      "Epoch: 9/10. Validation set: Average loss: 14.9359, Accuracy: 94.2900\n",
      "Epoch: 10/10. Train set: Average loss: 0.1812, Accuracy: 94.8700\n",
      "Epoch: 10/10. Validation set: Average loss: 13.9364, Accuracy: 94.6900\n"
     ]
    }
   ],
   "source": [
    "# TODO\n",
    "\n",
    "# train and evaluate model\n",
    "# code here\n",
    "acc_5, loss_5 = fit(train_loader, test_loader, model_5_epoch, loss_fn, optimizer_5, 5, get_grad=False)\n",
    "acc_10, loss_10 = fit(train_loader, test_loader, model_10_epoch, loss_fn, optimizer_10, 10, get_grad=False)"
   ]
  },
  {
   "cell_type": "code",
   "execution_count": 25,
   "metadata": {},
   "outputs": [
    {
     "data": {
      "image/png": "[encoded data removed]",
      "text/plain": [
       "<Figure size 432x288 with 1 Axes>"
      ]
     },
     "metadata": {
      "needs_background": "light"
     },
     "output_type": "display_data"
    },
    {
     "data": {
      "image/png": "[encoded data removed]",
      "text/plain": [
       "<Figure size 432x288 with 1 Axes>"
      ]
     },
     "metadata": {
      "needs_background": "light"
     },
     "output_type": "display_data"
    },
    {
     "data": {
      "image/png": "[encoded data removed]",
      "text/plain": [
       "<Figure size 432x288 with 1 Axes>"
      ]
     },
     "metadata": {
      "needs_background": "light"
     },
     "output_type": "display_data"
    },
    {
     "data": {
      "image/png": "[encoded data removed]",
      "text/plain": [
       "<Figure size 432x288 with 1 Axes>"
      ]
     },
     "metadata": {
      "needs_background": "light"
     },
     "output_type": "display_data"
    }
   ],
   "source": [
    "# TODO\n",
    "\n",
    "# show curve\n",
    "# code here\n",
    "show_curve(acc_5,\"Accuracy (5 epoches)\")\n",
    "show_curve(loss_5,\"Loss (5 epoches)\")\n",
    "show_curve(acc_10,\"Accuracy (10 epoches)\")\n",
    "show_curve(loss_10,\"Loss (10 epoches)\")"
   ]
  },
  {
   "cell_type": "markdown",
   "metadata": {},
   "source": [
    "A: 可以看到训练的epoch越多，模型在训练集上的精度也就越高，同时训练的loss也在不断下降；但无论是精度提升的速率，还是loss下降的速率都在放缓。"
   ]
  },
  {
   "cell_type": "markdown",
   "metadata": {},
   "source": [
    "## 作业 3\n",
    "适当调整其他参数，使模型能在5个epoch内在训练集上达到过拟合，画出训练过程中loss和accuracy的变化曲线。"
   ]
  },
  {
   "cell_type": "code",
   "execution_count": 26,
   "metadata": {
    "ExecuteTime": {
     "end_time": "2019-03-19T15:08:11.595671Z",
     "start_time": "2019-03-19T15:08:11.585338Z"
    }
   },
   "outputs": [],
   "source": [
    "# TODO\n",
    "\n",
    "# set hyper parameters\n",
    "# code here\n",
    "model = FeedForwardNeuralNetwork(input_size=input_size, hidden_size=1024, output_size=output_size).to(device)\n",
    "optimizer = torch.optim.SGD(model.parameters(), lr=0.5, weight_decay=0) # make it overfit"
   ]
  },
  {
   "cell_type": "code",
   "execution_count": 27,
   "metadata": {
    "ExecuteTime": {
     "end_time": "2019-03-19T15:08:11.606812Z",
     "start_time": "2019-03-19T15:08:11.597484Z"
    }
   },
   "outputs": [
    {
     "name": "stdout",
     "output_type": "stream",
     "text": [
      "Epoch: 1/5. Train set: Average loss: 0.3922, Accuracy: 94.9400\n",
      "Epoch: 1/5. Validation set: Average loss: 14.7935, Accuracy: 94.2700\n",
      "Epoch: 2/5. Train set: Average loss: 0.0996, Accuracy: 97.8817\n",
      "Epoch: 2/5. Validation set: Average loss: 8.1499, Accuracy: 96.9900\n",
      "Epoch: 3/5. Train set: Average loss: 0.0570, Accuracy: 98.6267\n",
      "Epoch: 3/5. Validation set: Average loss: 7.0188, Accuracy: 97.4300\n",
      "Epoch: 4/5. Train set: Average loss: 0.0373, Accuracy: 98.6850\n",
      "Epoch: 4/5. Validation set: Average loss: 7.2109, Accuracy: 97.3100\n",
      "Epoch: 5/5. Train set: Average loss: 0.0263, Accuracy: 98.7733\n",
      "Epoch: 5/5. Validation set: Average loss: 8.1582, Accuracy: 97.4100\n"
     ]
    }
   ],
   "source": [
    "# TODO\n",
    "\n",
    "# train and evaluate model\n",
    "# code here\n",
    "acc, loss = fit(train_loader, test_loader, model, loss_fn, optimizer, 5, get_grad=False)"
   ]
  },
  {
   "cell_type": "code",
   "execution_count": 28,
   "metadata": {
    "ExecuteTime": {
     "end_time": "2019-03-19T15:08:11.617329Z",
     "start_time": "2019-03-19T15:08:11.607942Z"
    }
   },
   "outputs": [
    {
     "data": {
      "image/png": "[encoded data removed]",
      "text/plain": [
       "<Figure size 432x288 with 1 Axes>"
      ]
     },
     "metadata": {
      "needs_background": "light"
     },
     "output_type": "display_data"
    },
    {
     "data": {
      "image/png": "[encoded data removed]",
      "text/plain": [
       "<Figure size 432x288 with 1 Axes>"
      ]
     },
     "metadata": {
      "needs_background": "light"
     },
     "output_type": "display_data"
    }
   ],
   "source": [
    "# TODO\n",
    "\n",
    "# show curve\n",
    "# code here\n",
    "show_curve(acc,\"Accuracy (overfitting)\")\n",
    "show_curve(loss,\"Loss (overfitting)\")"
   ]
  },
  {
   "cell_type": "markdown",
   "metadata": {},
   "source": [
    "A: 可以看到通过增加模型参数数目，使得模型复杂度高于训练集数量级，就会导致模型过拟合。表现为在训练集上的Loss不断下降，准确率不断提升；但是测试集上的Loss开始反弹上升，准确率下降（看第4第5个epoch）。"
   ]
  },
  {
   "cell_type": "markdown",
   "metadata": {},
   "source": [
    "### 3.4 save model \n",
    "PyTorch provides two methods to save the model. And we recommend the one that only saves parameters, because it's more flexible.\n",
    "\n",
    "A common PyTorch convention is to save models using either a .pt or .pth file extension.\n",
    "\n",
    "Click on this [link](https://pytorch.org/tutorials/beginner/saving_loading_models.html) for more details."
   ]
  },
  {
   "cell_type": "code",
   "execution_count": 29,
   "metadata": {
    "ExecuteTime": {
     "end_time": "2019-03-19T15:08:11.641312Z",
     "start_time": "2019-03-19T15:08:11.628417Z"
    }
   },
   "outputs": [
    {
     "name": "stdout",
     "output_type": "stream",
     "text": [
      "Model's state_dict:\n",
      "hidden1.weight \t torch.Size([1024, 784])\n",
      "hidden1.bias \t torch.Size([1024])\n",
      "hidden2.weight \t torch.Size([1024, 1024])\n",
      "hidden2.bias \t torch.Size([1024])\n",
      "hidden3.weight \t torch.Size([1024, 1024])\n",
      "hidden3.bias \t torch.Size([1024])\n",
      "classification_layer.weight \t torch.Size([10, 1024])\n",
      "classification_layer.bias \t torch.Size([10])\n",
      "hidden1_bn.weight \t torch.Size([1024])\n",
      "hidden1_bn.bias \t torch.Size([1024])\n",
      "hidden1_bn.running_mean \t torch.Size([1024])\n",
      "hidden1_bn.running_var \t torch.Size([1024])\n",
      "hidden1_bn.num_batches_tracked \t torch.Size([])\n",
      "hidden2_bn.weight \t torch.Size([1024])\n",
      "hidden2_bn.bias \t torch.Size([1024])\n",
      "hidden2_bn.running_mean \t torch.Size([1024])\n",
      "hidden2_bn.running_var \t torch.Size([1024])\n",
      "hidden2_bn.num_batches_tracked \t torch.Size([])\n",
      "hidden3_bn.weight \t torch.Size([1024])\n",
      "hidden3_bn.bias \t torch.Size([1024])\n",
      "hidden3_bn.running_mean \t torch.Size([1024])\n",
      "hidden3_bn.running_var \t torch.Size([1024])\n",
      "hidden3_bn.num_batches_tracked \t torch.Size([])\n",
      "\n",
      "Optimizer's state_dict:\n",
      "state \t {}\n",
      "param_groups \t [{'lr': 0.5, 'momentum': 0, 'dampening': 0, 'weight_decay': 0, 'nesterov': False, 'params': [2469710814008, 2469710812808, 2469710812408, 2469710812008, 2469710981144, 2469710981704, 2469711020264, 2469711022024, 2469711023784, 2469711023944, 2469711294360, 2469711291640, 2469710911912, 2469711041624]}]\n"
     ]
    }
   ],
   "source": [
    "# show parameters in model\n",
    "print(\"Model's state_dict:\")\n",
    "for param_tensor in model.state_dict():\n",
    "    print(param_tensor, \"\\t\", model.state_dict()[param_tensor].size())\n",
    "\n",
    "print(\"\\nOptimizer's state_dict:\")\n",
    "for var_name in optimizer.state_dict():\n",
    "    print(var_name, \"\\t\", optimizer.state_dict()[var_name])"
   ]
  },
  {
   "cell_type": "code",
   "execution_count": 30,
   "metadata": {
    "ExecuteTime": {
     "end_time": "2019-03-19T15:08:11.654672Z",
     "start_time": "2019-03-19T15:08:11.643226Z"
    }
   },
   "outputs": [],
   "source": [
    "# save model\n",
    "save_path = './model.pt'\n",
    "torch.save(model.state_dict(), save_path)"
   ]
  },
  {
   "cell_type": "code",
   "execution_count": 31,
   "metadata": {
    "ExecuteTime": {
     "end_time": "2019-03-19T15:08:11.680365Z",
     "start_time": "2019-03-19T15:08:11.655663Z"
    }
   },
   "outputs": [
    {
     "name": "stdout",
     "output_type": "stream",
     "text": [
      "OrderedDict([('hidden1.weight', tensor([[-9.6114e-05, -2.2861e-02,  7.1523e-03,  ...,  3.2509e-02,\n",
      "          1.0060e-02, -1.2331e-02],\n",
      "        [ 1.8380e-02, -2.7287e-02, -9.8349e-03,  ...,  1.7592e-02,\n",
      "          7.6233e-04, -2.3377e-02],\n",
      "        [ 3.4052e-03, -1.9219e-02,  1.2075e-02,  ...,  1.7066e-02,\n",
      "         -2.8297e-02, -2.6137e-03],\n",
      "        ...,\n",
      "        [ 2.7603e-02,  2.1834e-02, -1.1217e-02,  ..., -4.0312e-03,\n",
      "         -1.1030e-02, -5.3624e-04],\n",
      "        [-4.3779e-03,  2.2001e-02, -1.5303e-02,  ...,  3.1514e-02,\n",
      "          2.6834e-02,  1.8025e-02],\n",
      "        [-4.4720e-03,  3.7890e-02,  1.1568e-02,  ..., -1.8087e-02,\n",
      "         -2.9599e-02,  3.1759e-02]], device='cuda:0')), ('hidden1.bias', tensor([ 0.0218, -0.0269, -0.0185,  ..., -0.0083, -0.0357,  0.0017],\n",
      "       device='cuda:0')), ('hidden2.weight', tensor([[ 0.0059, -0.0298, -0.0057,  ..., -0.0169, -0.0191,  0.0226],\n",
      "        [ 0.0049, -0.0159, -0.0031,  ..., -0.0237, -0.0143, -0.0066],\n",
      "        [-0.0313,  0.0186,  0.0135,  ..., -0.0066, -0.0026, -0.0142],\n",
      "        ...,\n",
      "        [-0.0214,  0.0273,  0.0095,  ..., -0.0092,  0.0100, -0.0238],\n",
      "        [-0.0249,  0.0080, -0.0074,  ...,  0.0337, -0.0053,  0.0060],\n",
      "        [ 0.0537,  0.0134, -0.0113,  ..., -0.0288,  0.0347, -0.0198]],\n",
      "       device='cuda:0')), ('hidden2.bias', tensor([ 0.0093, -0.0054, -0.0011,  ...,  0.0143,  0.0100, -0.0307],\n",
      "       device='cuda:0')), ('hidden3.weight', tensor([[ 0.0013,  0.0173,  0.0156,  ...,  0.0273, -0.0118, -0.0266],\n",
      "        [ 0.0028, -0.0091,  0.0056,  ..., -0.0203, -0.0163, -0.0321],\n",
      "        [-0.0105, -0.0208,  0.0003,  ..., -0.0226,  0.0097, -0.0041],\n",
      "        ...,\n",
      "        [ 0.0148, -0.0114,  0.0247,  ..., -0.0051, -0.0247,  0.0214],\n",
      "        [ 0.0051, -0.0176, -0.0138,  ..., -0.0174,  0.0102,  0.0233],\n",
      "        [-0.0038, -0.0245,  0.0156,  ...,  0.0254,  0.0128, -0.0274]],\n",
      "       device='cuda:0')), ('hidden3.bias', tensor([-0.0092,  0.0234,  0.1416,  ..., -0.0349, -0.0129,  0.0661],\n",
      "       device='cuda:0')), ('classification_layer.weight', tensor([[ 0.0114, -0.0730, -0.0775,  ...,  0.0043,  0.0516, -0.1755],\n",
      "        [ 0.0504, -0.0704, -0.0690,  ...,  0.0996, -0.0040, -0.1278],\n",
      "        [ 0.0090, -0.0162, -0.0085,  ...,  0.0409,  0.0215, -0.0057],\n",
      "        ...,\n",
      "        [-0.1233,  0.0023, -0.1478,  ...,  0.0148,  0.0639, -0.0447],\n",
      "        [ 0.0131, -0.0008,  0.1318,  ..., -0.0494, -0.0498,  0.0510],\n",
      "        [ 0.0043, -0.0081,  0.1443,  ..., -0.0568,  0.0102,  0.1175]],\n",
      "       device='cuda:0')), ('classification_layer.bias', tensor([-0.0443, -0.3668, -0.2667,  0.2411, -0.1480, -0.0808, -0.5185,  0.2035,\n",
      "         0.6448,  0.3194], device='cuda:0')), ('hidden1_bn.weight', tensor([1., 1., 1.,  ..., 1., 1., 1.], device='cuda:0')), ('hidden1_bn.bias', tensor([0., 0., 0.,  ..., 0., 0., 0.], device='cuda:0')), ('hidden1_bn.running_mean', tensor([0., 0., 0.,  ..., 0., 0., 0.], device='cuda:0')), ('hidden1_bn.running_var', tensor([1., 1., 1.,  ..., 1., 1., 1.], device='cuda:0')), ('hidden1_bn.num_batches_tracked', tensor(0, device='cuda:0')), ('hidden2_bn.weight', tensor([1., 1., 1.,  ..., 1., 1., 1.], device='cuda:0')), ('hidden2_bn.bias', tensor([0., 0., 0.,  ..., 0., 0., 0.], device='cuda:0')), ('hidden2_bn.running_mean', tensor([0., 0., 0.,  ..., 0., 0., 0.], device='cuda:0')), ('hidden2_bn.running_var', tensor([1., 1., 1.,  ..., 1., 1., 1.], device='cuda:0')), ('hidden2_bn.num_batches_tracked', tensor(0, device='cuda:0')), ('hidden3_bn.weight', tensor([1., 1., 1.,  ..., 1., 1., 1.], device='cuda:0')), ('hidden3_bn.bias', tensor([0., 0., 0.,  ..., 0., 0., 0.], device='cuda:0')), ('hidden3_bn.running_mean', tensor([0., 0., 0.,  ..., 0., 0., 0.], device='cuda:0')), ('hidden3_bn.running_var', tensor([1., 1., 1.,  ..., 1., 1., 1.], device='cuda:0')), ('hidden3_bn.num_batches_tracked', tensor(0, device='cuda:0'))])\n"
     ]
    }
   ],
   "source": [
    "# load parameters from files\n",
    "saved_parameters = torch.load(save_path)\n",
    "print(saved_parameters)"
   ]
  },
  {
   "cell_type": "code",
   "execution_count": 32,
   "metadata": {
    "ExecuteTime": {
     "end_time": "2019-03-19T15:08:11.692042Z",
     "start_time": "2019-03-19T15:08:11.681431Z"
    }
   },
   "outputs": [
    {
     "data": {
      "text/plain": [
       "<All keys matched successfully>"
      ]
     },
     "execution_count": 32,
     "metadata": {},
     "output_type": "execute_result"
    }
   ],
   "source": [
    "# initialize model with saved parameters\n",
    "new_model = FeedForwardNeuralNetwork(input_size, 1024, output_size) # hidden_size changed here\n",
    "new_model.load_state_dict(saved_parameters)"
   ]
  },
  {
   "cell_type": "markdown",
   "metadata": {},
   "source": [
    "## 4. Training Tricks"
   ]
  },
  {
   "cell_type": "markdown",
   "metadata": {
    "ExecuteTime": {
     "end_time": "2019-03-17T09:20:50.581486Z",
     "start_time": "2019-03-17T09:20:50.577687Z"
    }
   },
   "source": [
    "### 4.1 l2_norm"
   ]
  },
  {
   "cell_type": "markdown",
   "metadata": {
    "ExecuteTime": {
     "end_time": "2019-03-18T06:01:00.306242Z",
     "start_time": "2019-03-18T06:01:00.303820Z"
    }
   },
   "source": [
    "# 作业 4 \n",
    "思考正则项的作用，将l2_norm的值分别设置为0.01和1, 训练模型，观察和不使用l2_norm的结果之间的差异。\n",
    "\n",
    "Hint：we could minimize the regularization term by using $weight\\_decay$ in **SGD optimizer**\n"
   ]
  },
  {
   "cell_type": "code",
   "execution_count": 35,
   "metadata": {
    "ExecuteTime": {
     "end_time": "2019-03-19T15:08:11.595671Z",
     "start_time": "2019-03-19T15:08:11.585338Z"
    }
   },
   "outputs": [],
   "source": [
    "# TODO: l2_norm=0.01\n",
    "\n",
    "# set hyper parameters and declare model, optimizer\n",
    "# code here\n",
    "model = FeedForwardNeuralNetwork(input_size=input_size, hidden_size=1024, output_size=output_size).to(device)\n",
    "optimizer = torch.optim.SGD(model.parameters(), lr=0.1, weight_decay=0.01)"
   ]
  },
  {
   "cell_type": "code",
   "execution_count": 36,
   "metadata": {
    "ExecuteTime": {
     "end_time": "2019-03-19T15:08:11.606812Z",
     "start_time": "2019-03-19T15:08:11.597484Z"
    }
   },
   "outputs": [
    {
     "name": "stdout",
     "output_type": "stream",
     "text": [
      "Epoch: 1/5. Train set: Average loss: 0.4512, Accuracy: 91.3950\n",
      "Epoch: 1/5. Validation set: Average loss: 20.8335, Accuracy: 91.5400\n",
      "Epoch: 2/5. Train set: Average loss: 0.1937, Accuracy: 93.4417\n",
      "Epoch: 2/5. Validation set: Average loss: 16.3755, Accuracy: 93.4500\n",
      "Epoch: 3/5. Train set: Average loss: 0.1610, Accuracy: 94.1333\n",
      "Epoch: 3/5. Validation set: Average loss: 14.9386, Accuracy: 94.0100\n",
      "Epoch: 4/5. Train set: Average loss: 0.1461, Accuracy: 94.5533\n",
      "Epoch: 4/5. Validation set: Average loss: 14.2277, Accuracy: 94.3200\n",
      "Epoch: 5/5. Train set: Average loss: 0.1376, Accuracy: 94.7733\n",
      "Epoch: 5/5. Validation set: Average loss: 13.7693, Accuracy: 94.5000\n"
     ]
    }
   ],
   "source": [
    "# TODO\n",
    "\n",
    "# train and evaluate model\n",
    "# code here\n",
    "acc, loss = fit(train_loader, test_loader, model, loss_fn, optimizer, 5, get_grad=False)"
   ]
  },
  {
   "cell_type": "code",
   "execution_count": 41,
   "metadata": {
    "ExecuteTime": {
     "end_time": "2019-03-19T15:08:11.595671Z",
     "start_time": "2019-03-19T15:08:11.585338Z"
    }
   },
   "outputs": [],
   "source": [
    "# TODO: l2_norm=1\n",
    "\n",
    "# set hyper parameters\n",
    "# code here\n",
    "model = FeedForwardNeuralNetwork(input_size=input_size, hidden_size=1024, output_size=output_size).to(device)\n",
    "optimizer = torch.optim.SGD(model.parameters(), lr=0.01, weight_decay=1)"
   ]
  },
  {
   "cell_type": "code",
   "execution_count": 43,
   "metadata": {
    "ExecuteTime": {
     "end_time": "2019-03-19T15:08:11.606812Z",
     "start_time": "2019-03-19T15:08:11.597484Z"
    }
   },
   "outputs": [
    {
     "name": "stdout",
     "output_type": "stream",
     "text": [
      "Epoch: 1/5. Train set: Average loss: 2.3072, Accuracy: 11.2367\n",
      "Epoch: 1/5. Validation set: Average loss: 181.8870, Accuracy: 11.3500\n",
      "Epoch: 2/5. Train set: Average loss: 2.3073, Accuracy: 11.2367\n",
      "Epoch: 2/5. Validation set: Average loss: 181.8871, Accuracy: 11.3500\n",
      "Epoch: 3/5. Train set: Average loss: 2.3073, Accuracy: 11.2367\n",
      "Epoch: 3/5. Validation set: Average loss: 181.8871, Accuracy: 11.3500\n",
      "Epoch: 4/5. Train set: Average loss: 2.3073, Accuracy: 11.2367\n",
      "Epoch: 4/5. Validation set: Average loss: 181.8871, Accuracy: 11.3500\n",
      "Epoch: 5/5. Train set: Average loss: 2.3073, Accuracy: 11.2367\n",
      "Epoch: 5/5. Validation set: Average loss: 181.8871, Accuracy: 11.3500\n"
     ]
    }
   ],
   "source": [
    "# TODO\n",
    "\n",
    "# train and evaluate model\n",
    "# code here\n",
    "acc, loss = fit(train_loader, test_loader, model, loss_fn, optimizer, 5, get_grad=False)"
   ]
  },
  {
   "cell_type": "code",
   "execution_count": 46,
   "metadata": {},
   "outputs": [
    {
     "data": {
      "image/png": "[encoded data removed]",
      "text/plain": [
       "<Figure size 432x288 with 6 Axes>"
      ]
     },
     "metadata": {
      "needs_background": "light"
     },
     "output_type": "display_data"
    }
   ],
   "source": [
    "show_weight_bias(model)"
   ]
  },
  {
   "cell_type": "markdown",
   "metadata": {},
   "source": [
    "A: 可以看到添加小的正则项，可以一定程度避免模型过拟合（训练和测试loss都在下降，而准确率都在提升。但添加过大的正则项则会导致训练失败，考虑L2正则化，目的是使各参数的元素尽可能小（靠近0），一旦正则化系数过大，模型就倾向于将所有参数都往0上靠，这样子很可能就无法拟合复杂的函数，从上述的模型参数直方图就可以看出这个结果（参数全部集中在0附近一个很小的区间，看坐标单位是1e-21）"
   ]
  },
  {
   "cell_type": "markdown",
   "metadata": {},
   "source": [
    "### 4.2 dropout\n",
    "Overfitting is a serious problem in large networks. And large networks are also slow to use, making it difficult to deal with overfitting by combining the predictions of many different large neural nets at test time. Dropout is a technique for addressing this problem. The key idea is to randomly drop units (along with their connections) from the neural network during training.\n",
    "\n",
    "Click on this [link](http://jmlr.org/papers/volume15/srivastava14a/srivastava14a.pdf) for more details."
   ]
  },
  {
   "cell_type": "markdown",
   "metadata": {
    "ExecuteTime": {
     "end_time": "2019-03-18T06:01:00.306242Z",
     "start_time": "2019-03-18T06:01:00.303820Z"
    }
   },
   "source": [
    "# 作业 5 \n",
    "思考dropout的作用，使用dropout训练模型，观察和不使用dropout的结果之间的差异。"
   ]
  },
  {
   "cell_type": "code",
   "execution_count": 47,
   "metadata": {
    "ExecuteTime": {
     "end_time": "2019-03-19T15:08:11.595671Z",
     "start_time": "2019-03-19T15:08:11.585338Z"
    }
   },
   "outputs": [],
   "source": [
    "# TODO\n",
    "\n",
    "# set hyper parameters and declare model, optimizer\n",
    "# code here\n",
    "model = FeedForwardNeuralNetwork(input_size=input_size, hidden_size=1024, output_size=output_size).to(device)\n",
    "optimizer = torch.optim.SGD(model.parameters(), lr=0.1, weight_decay=l2_norm)"
   ]
  },
  {
   "cell_type": "code",
   "execution_count": 48,
   "metadata": {},
   "outputs": [],
   "source": [
    "# TODO\n",
    "\n",
    "# Set dropout to True and probability = 0.5\n",
    "# code here\n",
    "model.set_use_dropout(True)"
   ]
  },
  {
   "cell_type": "code",
   "execution_count": 49,
   "metadata": {
    "ExecuteTime": {
     "end_time": "2019-03-19T15:08:11.606812Z",
     "start_time": "2019-03-19T15:08:11.597484Z"
    }
   },
   "outputs": [
    {
     "name": "stdout",
     "output_type": "stream",
     "text": [
      "Epoch: 1/5. Train set: Average loss: 0.4299, Accuracy: 93.6900\n",
      "Epoch: 1/5. Validation set: Average loss: 15.3308, Accuracy: 93.6900\n",
      "Epoch: 2/5. Train set: Average loss: 0.1376, Accuracy: 96.7133\n",
      "Epoch: 2/5. Validation set: Average loss: 9.1338, Accuracy: 96.4200\n",
      "Epoch: 3/5. Train set: Average loss: 0.0893, Accuracy: 97.8283\n",
      "Epoch: 3/5. Validation set: Average loss: 7.3007, Accuracy: 97.1800\n",
      "Epoch: 4/5. Train set: Average loss: 0.0628, Accuracy: 98.1717\n",
      "Epoch: 4/5. Validation set: Average loss: 7.1259, Accuracy: 97.1400\n",
      "Epoch: 5/5. Train set: Average loss: 0.0455, Accuracy: 98.9900\n",
      "Epoch: 5/5. Validation set: Average loss: 5.6648, Accuracy: 97.7800\n"
     ]
    }
   ],
   "source": [
    "# TODO\n",
    "\n",
    "# train and evaluate model\n",
    "# code here\n",
    "acc, loss = fit(train_loader, test_loader, model, loss_fn, optimizer, 5, get_grad=False)"
   ]
  },
  {
   "cell_type": "markdown",
   "metadata": {},
   "source": [
    "A: 从上述训练结果可以看出，dropout能够一定程度上避免过拟合。因在模型隐层参数量大于训练数据量时，依然能够使模型保持很好的效果：训练和测试loss都在下降，精度都在提升，仍处在学习阶段。"
   ]
  },
  {
   "cell_type": "markdown",
   "metadata": {
    "ExecuteTime": {
     "end_time": "2019-03-17T11:22:10.949023Z",
     "start_time": "2019-03-17T11:22:10.947165Z"
    }
   },
   "source": [
    "### 4.3 batch normalization\n",
    "Batch normalization is a technique for improving the performance and stability of artificial neural networks\n",
    "\n",
    "\\begin{equation}\n",
    "    y=\\frac{x-E[x]}{\\sqrt{Var[x]+\\epsilon}} * \\gamma + \\beta, \n",
    "\\end{equation}\n",
    "\n",
    "$\\gamma$ and $\\beta$ are learnable parameters\n",
    "\n",
    "Click on this [link](https://arxiv.org/abs/1502.03167) for more details."
   ]
  },
  {
   "cell_type": "markdown",
   "metadata": {
    "ExecuteTime": {
     "end_time": "2019-03-18T06:01:00.306242Z",
     "start_time": "2019-03-18T06:01:00.303820Z"
    }
   },
   "source": [
    "# 作业 6 \n",
    "思考batch normalization的作用，使用batch normalization训练模型，观察和不使用batch normalization的结果之间的差异。"
   ]
  },
  {
   "cell_type": "code",
   "execution_count": 50,
   "metadata": {
    "ExecuteTime": {
     "end_time": "2019-03-19T15:08:11.595671Z",
     "start_time": "2019-03-19T15:08:11.585338Z"
    }
   },
   "outputs": [],
   "source": [
    "# TODO\n",
    "\n",
    "# set hyper parameters and declare model, optimizer\n",
    "# code here\n",
    "model = FeedForwardNeuralNetwork(input_size=input_size, hidden_size=1024, output_size=output_size).to(device)\n",
    "optimizer = torch.optim.SGD(model.parameters(), lr=0.1, weight_decay=l2_norm)"
   ]
  },
  {
   "cell_type": "code",
   "execution_count": 51,
   "metadata": {},
   "outputs": [],
   "source": [
    "# TODO\n",
    "\n",
    "# Set batch normalization to True \n",
    "# code here\n",
    "model.set_use_bn(True)"
   ]
  },
  {
   "cell_type": "code",
   "execution_count": 52,
   "metadata": {
    "ExecuteTime": {
     "end_time": "2019-03-19T15:08:11.606812Z",
     "start_time": "2019-03-19T15:08:11.597484Z"
    }
   },
   "outputs": [
    {
     "name": "stdout",
     "output_type": "stream",
     "text": [
      "Epoch: 1/5. Train set: Average loss: 0.1612, Accuracy: 97.8900\n",
      "Epoch: 1/5. Validation set: Average loss: 7.8066, Accuracy: 96.7500\n",
      "Epoch: 2/5. Train set: Average loss: 0.0431, Accuracy: 99.0733\n",
      "Epoch: 2/5. Validation set: Average loss: 5.7808, Accuracy: 97.7400\n",
      "Epoch: 3/5. Train set: Average loss: 0.0132, Accuracy: 99.7133\n",
      "Epoch: 3/5. Validation set: Average loss: 4.7178, Accuracy: 98.0600\n",
      "Epoch: 4/5. Train set: Average loss: 0.0040, Accuracy: 99.8983\n",
      "Epoch: 4/5. Validation set: Average loss: 4.4919, Accuracy: 98.2900\n",
      "Epoch: 5/5. Train set: Average loss: 0.0014, Accuracy: 99.9567\n",
      "Epoch: 5/5. Validation set: Average loss: 4.1487, Accuracy: 98.4000\n"
     ]
    }
   ],
   "source": [
    "# TODO\n",
    "\n",
    "# train and evaluate model\n",
    "# code here\n",
    "acc, loss = fit(train_loader, test_loader, model, loss_fn, optimizer, n_epochs, get_grad=False)"
   ]
  },
  {
   "cell_type": "markdown",
   "metadata": {},
   "source": [
    "A: 这一个实验再次说明了好的避免过拟合的方法有多重要，哪怕训练集的准确率都已经到了99%+，但测试集的loss依然在降低，精度依然在提升。"
   ]
  },
  {
   "cell_type": "markdown",
   "metadata": {},
   "source": [
    "### 4.4 data augmentation\n",
    "PyTorch provides many transformation methods for data augmentation.\n",
    "\n",
    "Click on this [link](https://pytorch.org/docs/stable/torchvision/transforms.html) for more details."
   ]
  },
  {
   "cell_type": "markdown",
   "metadata": {},
   "source": [
    "## 作业 7\n",
    "思考data augmentation的作用，使用data augmentation训练模型（具体transform方式不限），观察和不使用data augmentation的结果之间的差异。"
   ]
  },
  {
   "cell_type": "code",
   "execution_count": 53,
   "metadata": {
    "ExecuteTime": {
     "end_time": "2019-03-19T15:12:16.365656Z",
     "start_time": "2019-03-19T15:12:16.356538Z"
    }
   },
   "outputs": [],
   "source": [
    "# TODO\n",
    "\n",
    "# use data augmentation\n",
    "# reload train_loader with transform\n",
    "# code here\n",
    "train_transform = transforms.Compose([\n",
    "    transforms.RandomHorizontalFlip(),\n",
    "    transforms.RandomCrop(28, 4),\n",
    "    transforms.ToTensor(),\n",
    "    transforms.Normalize((0.1307,), (0.3081,))\n",
    "])\n",
    "\n",
    "train_dataset = torchvision.datasets.MNIST(root='./data', \n",
    "                            train=True, \n",
    "                            transform=train_transform,\n",
    "                            download=True)"
   ]
  },
  {
   "cell_type": "code",
   "execution_count": 56,
   "metadata": {
    "ExecuteTime": {
     "end_time": "2019-03-19T15:08:11.595671Z",
     "start_time": "2019-03-19T15:08:11.585338Z"
    }
   },
   "outputs": [],
   "source": [
    "# TODO\n",
    "\n",
    "# set hyper parameters and declare model, optimizer\n",
    "# code here\n",
    "model = FeedForwardNeuralNetwork(input_size=input_size, hidden_size=1024, output_size=output_size).to(device)\n",
    "optimizer = torch.optim.SGD(model.parameters(), lr=0.1, weight_decay=l2_norm)"
   ]
  },
  {
   "cell_type": "code",
   "execution_count": 57,
   "metadata": {
    "ExecuteTime": {
     "end_time": "2019-03-19T15:08:11.606812Z",
     "start_time": "2019-03-19T15:08:11.597484Z"
    }
   },
   "outputs": [
    {
     "name": "stdout",
     "output_type": "stream",
     "text": [
      "Epoch: 1/5. Train set: Average loss: 0.4125, Accuracy: 93.6183\n",
      "Epoch: 1/5. Validation set: Average loss: 15.7287, Accuracy: 93.5700\n",
      "Epoch: 2/5. Train set: Average loss: 0.1316, Accuracy: 95.8367\n",
      "Epoch: 2/5. Validation set: Average loss: 11.0462, Accuracy: 95.4400\n",
      "Epoch: 3/5. Train set: Average loss: 0.0842, Accuracy: 97.1850\n",
      "Epoch: 3/5. Validation set: Average loss: 8.4213, Accuracy: 96.5200\n",
      "Epoch: 4/5. Train set: Average loss: 0.0576, Accuracy: 98.1767\n",
      "Epoch: 4/5. Validation set: Average loss: 6.9655, Accuracy: 97.0800\n",
      "Epoch: 5/5. Train set: Average loss: 0.0401, Accuracy: 98.6133\n",
      "Epoch: 5/5. Validation set: Average loss: 6.5192, Accuracy: 97.3000\n"
     ]
    }
   ],
   "source": [
    "# TODO\n",
    "\n",
    "# train and evaluate model\n",
    "# code here\n",
    "acc, loss = fit(train_loader, test_loader, model, loss_fn, optimizer, n_epochs, get_grad=False)"
   ]
  },
  {
   "cell_type": "markdown",
   "metadata": {},
   "source": [
    "A: 同样，通过增加训练集数目，也能够有效避免过拟合，使模型的泛化能力更强，进而在测试集上取得更好的表现。"
   ]
  },
  {
   "cell_type": "markdown",
   "metadata": {},
   "source": [
    "## 5. Gradient explosion and vanishing\n",
    "\n",
    "For plotting how gradients change, you need to set **get_grad=True** in **fit function**."
   ]
  },
  {
   "cell_type": "markdown",
   "metadata": {},
   "source": [
    "## 作业 8\n",
    "调整超参数或改变初始化方式，分别产生梯度爆炸和梯度消失两种情况，观察它们与正常情况下梯度的变化曲线。"
   ]
  },
  {
   "cell_type": "code",
   "execution_count": 58,
   "metadata": {
    "ExecuteTime": {
     "end_time": "2019-03-21T14:22:27.375778Z",
     "start_time": "2019-03-21T14:22:27.360954Z"
    }
   },
   "outputs": [
    {
     "name": "stdout",
     "output_type": "stream",
     "text": [
      "Epoch: 1/5. Train set: Average loss: 0.5175, Accuracy: 92.2317\n",
      "Epoch: 1/5. Validation set: Average loss: 19.0557, Accuracy: 91.9100\n",
      "Epoch: 2/5. Train set: Average loss: 0.1644, Accuracy: 95.5383\n",
      "Epoch: 2/5. Validation set: Average loss: 11.5114, Accuracy: 95.4500\n",
      "Epoch: 3/5. Train set: Average loss: 0.1138, Accuracy: 97.1467\n",
      "Epoch: 3/5. Validation set: Average loss: 8.3177, Accuracy: 96.6000\n",
      "Epoch: 4/5. Train set: Average loss: 0.0857, Accuracy: 97.7133\n",
      "Epoch: 4/5. Validation set: Average loss: 7.4869, Accuracy: 96.9500\n",
      "Epoch: 5/5. Train set: Average loss: 0.0670, Accuracy: 98.2333\n",
      "Epoch: 5/5. Validation set: Average loss: 6.8826, Accuracy: 97.1900\n"
     ]
    },
    {
     "data": {
      "image/png": "[encoded data removed]",
      "text/plain": [
       "<Figure size 432x288 with 1 Axes>"
      ]
     },
     "metadata": {
      "needs_background": "light"
     },
     "output_type": "display_data"
    }
   ],
   "source": [
    "# TODO\n",
    "\n",
    "# normal gradient\n",
    "# code here\n",
    "model = FeedForwardNeuralNetwork(input_size=input_size, hidden_size=hidden_size, output_size=output_size).to(device)\n",
    "optimizer = torch.optim.SGD(model.parameters(), lr=0.1, weight_decay=l2_norm)\n",
    "acc, loss = fit(train_loader, test_loader, model, loss_fn, optimizer, n_epochs, get_grad=True)"
   ]
  },
  {
   "cell_type": "code",
   "execution_count": 68,
   "metadata": {
    "ExecuteTime": {
     "end_time": "2019-03-21T14:22:27.375778Z",
     "start_time": "2019-03-21T14:22:27.360954Z"
    }
   },
   "outputs": [
    {
     "name": "stdout",
     "output_type": "stream",
     "text": [
      "Epoch: 1/5. Train set: Average loss: 40.8877, Accuracy: 9.9300\n",
      "Epoch: 1/5. Validation set: Average loss: 3087.9724, Accuracy: 10.3200\n",
      "Epoch: 2/5. Train set: Average loss: 41.8611, Accuracy: 9.9300\n",
      "Epoch: 2/5. Validation set: Average loss: 2142.1513, Accuracy: 10.3200\n",
      "Epoch: 3/5. Train set: Average loss: 41.9012, Accuracy: 9.7367\n",
      "Epoch: 3/5. Validation set: Average loss: 2692.7707, Accuracy: 9.8200\n",
      "Epoch: 4/5. Train set: Average loss: 42.0554, Accuracy: 9.8633\n",
      "Epoch: 4/5. Validation set: Average loss: 3334.9157, Accuracy: 9.5800\n",
      "Epoch: 5/5. Train set: Average loss: 41.3562, Accuracy: 9.8633\n",
      "Epoch: 5/5. Validation set: Average loss: 3549.3894, Accuracy: 9.5800\n"
     ]
    },
    {
     "data": {
      "image/png": "[encoded data removed]",
      "text/plain": [
       "<Figure size 432x288 with 1 Axes>"
      ]
     },
     "metadata": {
      "needs_background": "light"
     },
     "output_type": "display_data"
    }
   ],
   "source": [
    "# TODO\n",
    "\n",
    "# gradient explosion\n",
    "# code here\n",
    "def weight_bias_reset_explosion(model):\n",
    "    \"\"\"Custom initialization, you can imitate the code writing to use other initialization methods in homework.\n",
    "    \"\"\"\n",
    "    for m in model.modules():\n",
    "        if isinstance(m, nn.Linear):\n",
    "            mean, std = 0.05, 0.2\n",
    "            torch.nn.init.normal_(m.weight, mean, std)\n",
    "            torch.nn.init.normal_(m.bias, mean, std)\n",
    "\n",
    "model = FeedForwardNeuralNetwork(input_size=input_size, hidden_size=1024, output_size=output_size, activation_function='SIGMOID').to(device)\n",
    "weight_bias_reset_explosion(model)\n",
    "optimizer = torch.optim.SGD(model.parameters(), lr=0.1, weight_decay=l2_norm)\n",
    "acc, loss = fit(train_loader, test_loader, model, loss_fn, optimizer, n_epochs, get_grad=True)"
   ]
  },
  {
   "cell_type": "code",
   "execution_count": 62,
   "metadata": {
    "ExecuteTime": {
     "end_time": "2019-03-21T14:22:27.375778Z",
     "start_time": "2019-03-21T14:22:27.360954Z"
    }
   },
   "outputs": [
    {
     "name": "stdout",
     "output_type": "stream",
     "text": [
      "Epoch: 1/5. Train set: Average loss: 0.8023, Accuracy: 88.7700\n",
      "Epoch: 1/5. Validation set: Average loss: 27.0412, Accuracy: 89.3000\n",
      "Epoch: 2/5. Train set: Average loss: 0.2773, Accuracy: 92.0000\n",
      "Epoch: 2/5. Validation set: Average loss: 20.2995, Accuracy: 92.1800\n",
      "Epoch: 3/5. Train set: Average loss: 0.2274, Accuracy: 93.4617\n",
      "Epoch: 3/5. Validation set: Average loss: 17.1144, Accuracy: 93.5100\n",
      "Epoch: 4/5. Train set: Average loss: 0.1953, Accuracy: 94.4350\n",
      "Epoch: 4/5. Validation set: Average loss: 15.0364, Accuracy: 94.3900\n",
      "Epoch: 5/5. Train set: Average loss: 0.1710, Accuracy: 95.1667\n",
      "Epoch: 5/5. Validation set: Average loss: 13.4966, Accuracy: 95.0100\n"
     ]
    },
    {
     "data": {
      "image/png": "[encoded data removed]",
      "text/plain": [
       "<Figure size 432x288 with 1 Axes>"
      ]
     },
     "metadata": {
      "needs_background": "light"
     },
     "output_type": "display_data"
    }
   ],
   "source": [
    "# TODO\n",
    "\n",
    "# gradient vanishing\n",
    "# code here\n",
    "model = FeedForwardNeuralNetwork(input_size=input_size, hidden_size=1024, output_size=output_size, activation_function='SIGMOID').to(device)\n",
    "weight_bias_reset(model)\n",
    "optimizer = torch.optim.SGD(model.parameters(), lr=0.1, weight_decay=l2_norm)\n",
    "acc, loss = fit(train_loader, test_loader, model, loss_fn, optimizer, n_epochs, get_grad=True)"
   ]
  },
  {
   "cell_type": "markdown",
   "metadata": {},
   "source": [
    "A: 可以看到由于选用了Sigmoid函数$(\\sigma'(z)\\in[0,1])$，再加上权重用$\\mathcal{N}(0,0.1)}进行初始化，导致梯度在反向传播时越乘越小，进而趋于0，最终导致梯度消失。"
   ]
  },
  {
   "cell_type": "code",
   "execution_count": null,
   "metadata": {},
   "outputs": [],
   "source": []
  }
 ],
 "metadata": {
  "kernelspec": {
   "display_name": "Python 3",
   "language": "python",
   "name": "python3"
  },
  "language_info": {
   "codemirror_mode": {
    "name": "ipython",
    "version": 3
   },
   "file_extension": ".py",
   "mimetype": "text/x-python",
   "name": "python",
   "nbconvert_exporter": "python",
   "pygments_lexer": "ipython3",
   "version": "3.7.6"
  }
 },
 "nbformat": 4,
 "nbformat_minor": 2
}
