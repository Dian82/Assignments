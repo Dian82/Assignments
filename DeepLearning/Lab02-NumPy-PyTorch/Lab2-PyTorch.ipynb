{
 "cells": [
  {
   "cell_type": "markdown",
   "metadata": {},
   "source": [
    "# Lab2 - PyTorch Assignment"
   ]
  },
  {
   "cell_type": "code",
   "execution_count": 1,
   "metadata": {},
   "outputs": [
    {
     "name": "stdout",
     "output_type": "stream",
     "text": [
      "1.1.0\n"
     ]
    }
   ],
   "source": [
    "import torch\n",
    "import torch.nn.functional as F\n",
    "print(torch.__version__)"
   ]
  },
  {
   "cell_type": "markdown",
   "metadata": {},
   "source": [
    "## Question 1\n",
    "Create a tensor(1*40) with elements from 10 to 49.\n",
    "\n",
    "Print out its max element and minim element. (hint: The more concise, the higher the score)\n",
    "\n",
    "**Reference answer:**\n",
    "```\n",
    "tensor([10., 11., 12., 13., 14., 15., 16., 17., 18.,\n",
    "19., 20., 21., 22., 23., 24., 25., 26., 27., 28., 29.,\n",
    "30., 31., 32., 33., 34., 35., 36., 37., 38., 39., 40.,\n",
    "41., 42., 43., 44., 45., 46., 47., 48., 49.])\n",
    "tensor(49.)\n",
    "tensor(10.)\n",
    "```"
   ]
  },
  {
   "cell_type": "code",
   "execution_count": 2,
   "metadata": {},
   "outputs": [
    {
     "name": "stdout",
     "output_type": "stream",
     "text": [
      "tensor(49)\n",
      "tensor(10)\n"
     ]
    }
   ],
   "source": [
    "x = torch.arange(10,50)\n",
    "print(x.max())\n",
    "print(x.min())"
   ]
  },
  {
   "cell_type": "markdown",
   "metadata": {},
   "source": [
    "## Question 2\n",
    "\n",
    "Define two matrix (arbitrary size), use the small matrix to silde on the big matrix from left to right and from up to down. At each step, we multiply the corresponding elements of the two matrices and add the result of mutiplying. Finally, we use all elements we get to create a new matrix. Please print out the matrix.\n",
    "\n",
    "![cov](fig/conv.gif)"
   ]
  },
  {
   "cell_type": "code",
   "execution_count": 3,
   "metadata": {},
   "outputs": [
    {
     "name": "stdout",
     "output_type": "stream",
     "text": [
      "tensor([[0.5334, 0.5025, 0.0239, 0.1276, 0.3992],\n",
      "        [0.4595, 0.3946, 0.7182, 0.7755, 0.0490],\n",
      "        [0.6403, 0.3052, 0.0022, 0.6717, 0.9881],\n",
      "        [0.0481, 0.3205, 0.7136, 0.2080, 0.1687],\n",
      "        [0.5168, 0.8023, 0.6032, 0.5407, 0.5032]])\n",
      "tensor([[0.1765, 0.9772, 0.8787],\n",
      "        [0.8639, 0.5087, 0.6529],\n",
      "        [0.3107, 0.0684, 0.9341]])\n",
      "tensor([[1.8947, 2.1590, 2.4963],\n",
      "        [2.5111, 2.4990, 2.3099],\n",
      "        [1.8626, 2.2176, 3.0519]])\n",
      "tensor([[1.8947, 2.1590, 2.4963],\n",
      "        [2.5111, 2.4990, 2.3099],\n",
      "        [1.8626, 2.2176, 3.0519]])\n"
     ]
    }
   ],
   "source": [
    "x = torch.rand((5,5))\n",
    "kernel = torch.rand((3,3))\n",
    "print(x)\n",
    "print(kernel)\n",
    "out = torch.zeros((3,3))\n",
    "for i in range(0,3):\n",
    "    for j in range(0,3):\n",
    "        out[i,j] = (x[i:i+3,j:j+3] * kernel).sum() # element-wise multiplication\n",
    "print(out)\n",
    "\n",
    "# use inherent method\n",
    "x = x.unsqueeze(0).unsqueeze(0)\n",
    "kernel = kernel.unsqueeze(0).unsqueeze(0)\n",
    "print(F.conv2d(x,kernel).squeeze(0).squeeze(0))"
   ]
  },
  {
   "cell_type": "code",
   "execution_count": null,
   "metadata": {},
   "outputs": [],
   "source": []
  }
 ],
 "metadata": {
  "kernelspec": {
   "display_name": "Python 3",
   "language": "python",
   "name": "python3"
  },
  "language_info": {
   "codemirror_mode": {
    "name": "ipython",
    "version": 3
   },
   "file_extension": ".py",
   "mimetype": "text/x-python",
   "name": "python",
   "nbconvert_exporter": "python",
   "pygments_lexer": "ipython3",
   "version": "3.6.2"
  }
 },
 "nbformat": 4,
 "nbformat_minor": 2
}
