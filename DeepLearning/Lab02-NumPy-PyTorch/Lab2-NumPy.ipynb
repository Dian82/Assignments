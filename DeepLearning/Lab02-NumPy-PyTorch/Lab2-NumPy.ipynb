{
 "cells": [
  {
   "cell_type": "markdown",
   "metadata": {},
   "source": [
    "# Lab 2 - NumPy Assignment"
   ]
  },
  {
   "cell_type": "code",
   "execution_count": 1,
   "metadata": {},
   "outputs": [],
   "source": [
    "import numpy as np"
   ]
  },
  {
   "cell_type": "markdown",
   "metadata": {},
   "source": [
    "Q1: Define 6 points in 2D-coordinate. x coordinates are (0, 1, 2, 3, 4, 5) and y coordinates are the value in [0, 1)."
   ]
  },
  {
   "cell_type": "code",
   "execution_count": 2,
   "metadata": {},
   "outputs": [],
   "source": [
    "x = np.arange(0,6)\n",
    "y = np.random.random(6)"
   ]
  },
  {
   "cell_type": "markdown",
   "metadata": {},
   "source": [
    "Q2: Remove all values less than 0 from y and print it. (Try as many methods as possible)"
   ]
  },
  {
   "cell_type": "code",
   "execution_count": 3,
   "metadata": {},
   "outputs": [
    {
     "name": "stdout",
     "output_type": "stream",
     "text": [
      "[0.96903591 0.54902637 0.04684612 0.83267096 0.63677574 0.31401075]\n",
      "[0.96903591 0.54902637 0.04684612 0.83267096 0.63677574 0.31401075]\n",
      "[0.96903591 0.54902637 0.04684612 0.83267096 0.63677574 0.31401075]\n"
     ]
    }
   ],
   "source": [
    "print(y[y >= 0]) # fancy indexing\n",
    "print(y[np.where(y >= 0)])\n",
    "print(np.delete(y,np.where(y < 0)))"
   ]
  },
  {
   "cell_type": "markdown",
   "metadata": {},
   "source": [
    "Q3: For the remaining elements greater than or equal to 0, multiply by 10 and print their integer part. (Try as many methods as possible)"
   ]
  },
  {
   "cell_type": "code",
   "execution_count": 4,
   "metadata": {},
   "outputs": [
    {
     "name": "stdout",
     "output_type": "stream",
     "text": [
      "[9, 5, 0, 8, 6, 3]\n",
      "[9. 5. 0. 8. 6. 3.]\n",
      "[9 5 0 8 6 3]\n"
     ]
    }
   ],
   "source": [
    "y_copied = y[y >= 0]\n",
    "print(list(map(int,y_copied * 10)))\n",
    "print(np.floor(y_copied * 10))\n",
    "print((y_copied * 10).astype(np.int))"
   ]
  },
  {
   "cell_type": "markdown",
   "metadata": {},
   "source": [
    "Q4: Use numpy.polyfit to fit a polynomial p(x) = p[0] * x**deg + ... + p[deg] of degree deg to points (x, y) defined in 1. (Degree should be set to 3 or 4)"
   ]
  },
  {
   "cell_type": "code",
   "execution_count": 5,
   "metadata": {},
   "outputs": [
    {
     "name": "stdout",
     "output_type": "stream",
     "text": [
      "          3          2\n",
      "-0.06512 x + 0.5189 x - 1.109 x + 1.014\n"
     ]
    }
   ],
   "source": [
    "coeff = np.polyfit(x,y,3)\n",
    "f = np.poly1d(coeff)\n",
    "print(f)"
   ]
  },
  {
   "cell_type": "markdown",
   "metadata": {},
   "source": [
    "Q5: Use matplotlib to draw data curve and polynomial curve."
   ]
  },
  {
   "cell_type": "code",
   "execution_count": 6,
   "metadata": {},
   "outputs": [
    {
     "data": {
      "image/png": "[encoded data removed]",
      "text/plain": [
       "<matplotlib.figure.Figure at 0x22762302e48>"
      ]
     },
     "metadata": {},
     "output_type": "display_data"
    }
   ],
   "source": [
    "import matplotlib.pyplot as plt\n",
    "plt.plot(x,y,\".\")\n",
    "x_f = np.linspace(0,6,100)\n",
    "y_f = f(x_f)\n",
    "plt.plot(x_f,y_f)\n",
    "plt.xlabel(\"x\")\n",
    "plt.ylabel(\"y\")\n",
    "plt.show()"
   ]
  },
  {
   "cell_type": "code",
   "execution_count": null,
   "metadata": {},
   "outputs": [],
   "source": []
  }
 ],
 "metadata": {
  "kernelspec": {
   "display_name": "Python 3",
   "language": "python",
   "name": "python3"
  },
  "language_info": {
   "codemirror_mode": {
    "name": "ipython",
    "version": 3
   },
   "file_extension": ".py",
   "mimetype": "text/x-python",
   "name": "python",
   "nbconvert_exporter": "python",
   "pygments_lexer": "ipython3",
   "version": "3.6.2"
  }
 },
 "nbformat": 4,
 "nbformat_minor": 2
}
