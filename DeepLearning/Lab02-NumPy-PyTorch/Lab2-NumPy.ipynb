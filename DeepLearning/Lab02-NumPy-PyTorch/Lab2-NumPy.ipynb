{
 "cells": [
  {
   "cell_type": "markdown",
   "metadata": {},
   "source": [
    "# Lab 2 - NumPy Assignment"
   ]
  },
  {
   "cell_type": "code",
   "execution_count": 1,
   "metadata": {},
   "outputs": [],
   "source": [
    "import numpy as np\n",
    "import matplotlib.pyplot as plt"
   ]
  },
  {
   "cell_type": "markdown",
   "metadata": {},
   "source": [
    "Q1: Define 6 points in 2D-coordinate. x coordinates are (0, 1, 2, 3, 4, 5) and y coordinates are the value in (-1, 1)."
   ]
  },
  {
   "cell_type": "code",
   "execution_count": 2,
   "metadata": {},
   "outputs": [
    {
     "name": "stdout",
     "output_type": "stream",
     "text": [
      "[0 1 2 3 4 5]\n",
      "[-0.33499863  0.70403452  0.90189217  0.04001495  0.6505376  -0.31666356]\n"
     ]
    }
   ],
   "source": [
    "x = np.arange(0,6)\n",
    "y = np.random.random(6) * 2 - 1 # [0,1) -> [0,2) -> [-1,1)\n",
    "print(x)\n",
    "print(y)"
   ]
  },
  {
   "cell_type": "markdown",
   "metadata": {},
   "source": [
    "Q2: Remove all values less than 0 from y and print it. (Try as many methods as possible)"
   ]
  },
  {
   "cell_type": "code",
   "execution_count": 3,
   "metadata": {},
   "outputs": [
    {
     "name": "stdout",
     "output_type": "stream",
     "text": [
      "[0.70403452 0.90189217 0.04001495 0.6505376 ]\n",
      "[0.70403452 0.90189217 0.04001495 0.6505376 ]\n",
      "[0.70403452 0.90189217 0.04001495 0.6505376 ]\n"
     ]
    }
   ],
   "source": [
    "# 1. fancy indexing\n",
    "print(y[y >= 0])\n",
    "# 2. np.where\n",
    "print(y[np.where(y >= 0)])\n",
    "# 3. np.delete\n",
    "print(np.delete(y,np.where(y < 0)))"
   ]
  },
  {
   "cell_type": "markdown",
   "metadata": {},
   "source": [
    "Q3: For the remaining elements greater than or equal to 0, multiply by 10 and print their integer part. (Try as many methods as possible)"
   ]
  },
  {
   "cell_type": "code",
   "execution_count": 4,
   "metadata": {},
   "outputs": [
    {
     "name": "stdout",
     "output_type": "stream",
     "text": [
      "[7, 9, 0, 6]\n",
      "[7. 9. 0. 6.]\n",
      "[7 9 0 6]\n"
     ]
    }
   ],
   "source": [
    "y_copied = y[y >= 0]\n",
    "# 1. python functions\n",
    "print(list(map(int,y_copied * 10)))\n",
    "# 2. np.floor (return float)\n",
    "print(np.floor(y_copied * 10))\n",
    "# 3. directly typecast\n",
    "print((y_copied * 10).astype(np.int))"
   ]
  },
  {
   "cell_type": "markdown",
   "metadata": {},
   "source": [
    "Q4: Use numpy.polyfit to fit a polynomial p(x) = p[0] * x**deg + ... + p[deg] of degree deg to points (x, y) defined in 1. (Degree should be set to 3 or 4)"
   ]
  },
  {
   "cell_type": "code",
   "execution_count": 5,
   "metadata": {},
   "outputs": [
    {
     "name": "stdout",
     "output_type": "stream",
     "text": [
      "         3          2\n",
      "0.03624 x - 0.4214 x + 1.218 x - 0.2669\n"
     ]
    }
   ],
   "source": [
    "coeff = np.polyfit(x,y,3)\n",
    "f = np.poly1d(coeff)\n",
    "print(f)"
   ]
  },
  {
   "cell_type": "markdown",
   "metadata": {},
   "source": [
    "Q5: Use matplotlib to draw data curve and polynomial curve."
   ]
  },
  {
   "cell_type": "code",
   "execution_count": 6,
   "metadata": {},
   "outputs": [
    {
     "data": {
      "image/png": "[encoded data removed]",
      "text/plain": [
       "<Figure size 432x288 with 1 Axes>"
      ]
     },
     "metadata": {
      "needs_background": "light"
     },
     "output_type": "display_data"
    }
   ],
   "source": [
    "x_f = np.linspace(0,5,100)\n",
    "y_f = f(x_f)\n",
    "plt.plot(x,y,\".\")\n",
    "plt.plot(x_f,y_f)\n",
    "plt.xlabel(\"x\")\n",
    "plt.ylabel(\"y\")\n",
    "plt.ylim(-1,1)\n",
    "plt.show()"
   ]
  },
  {
   "cell_type": "code",
   "execution_count": null,
   "metadata": {},
   "outputs": [],
   "source": []
  }
 ],
 "metadata": {
  "kernelspec": {
   "display_name": "Python 3",
   "language": "python",
   "name": "python3"
  },
  "language_info": {
   "codemirror_mode": {
    "name": "ipython",
    "version": 3
   },
   "file_extension": ".py",
   "mimetype": "text/x-python",
   "name": "python",
   "nbconvert_exporter": "python",
   "pygments_lexer": "ipython3",
   "version": "3.7.6"
  }
 },
 "nbformat": 4,
 "nbformat_minor": 2
}
