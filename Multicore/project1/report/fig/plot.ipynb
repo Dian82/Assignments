{
 "cells": [
  {
   "cell_type": "code",
   "execution_count": null,
   "metadata": {},
   "outputs": [],
   "source": [
    "import matplotlib.pyplot as plt\n",
    "import numpy as np\n",
    "import matplotlib.ticker as mtick"
   ]
  },
  {
   "cell_type": "code",
   "execution_count": null,
   "metadata": {},
   "outputs": [],
   "source": [
    "labels = [\"(5,5)\",\"(5,5)\",\"(16,16)\",\"(16,16)\",\"(128,128)\",\"(128,128)\",\n",
    "          \"(1024,1024)\",\"(1024,1024)\",\"(2560,2560)\",\"(2560,2560)\",\"(2000,3000)\",\"(2000,3000)\"]\n",
    "np_res = [0.76,0.64,6.21,6.19,373.81,370.31,28445.66,28957.15,181479.58,147836.56,136511.26,166399.80]\n",
    "omp_res = [0.661,0.016,0.046,0.045,1.776,1.709,56.034,54.182,306.380,306.065,282.479,285.221]\n",
    "omp_lu_res = [0.602,0.014,0.030,0.030,1.009,0.919,28.930,35.282,178.474,180.143,158.951,163.003]\n",
    "cuda_res = [260.236,0.229,0.220,0.212,0.326,0.300,7.575,5.298,44.067,36.336,31.400,28.948]\n",
    "cuda_lu_res = [229.116,0.414,0.330,0.321,0.452,7.792,7.515,7.775,47.143,36.633,28.728,28.613]\n",
    "cuda_2d_res = [528.883,0.381,0.332,0.326,0.493,0.706,10.033,4.524,40.379,32.180,22.072,27.463]\n",
    "cuda_2d_lu_res = [626.418,0.732,0.642,0.727,1.052,3.582,12.763,7.602,40.386,28.923,26.454,25.678]\n",
    "cuda_shared = [235.576,0.252,0.238,0.235,0.385,0.380,9.634,4.170,33.689,25.625,24.404,17.749]\n",
    "cuda_shared_lu = [258.038,0.239,0.224,0.234,0.354,0.388,14.582,4.043,34.011,39.863,15.109,18.582]\n",
    "\n",
    "fig, ax = plt.subplots(figsize=(10,5))\n",
    "x = np.arange(len(labels[1:]))\n",
    "lns1 = ax.plot(cuda_res[1:], label=\"CUDA Baseline\")\n",
    "lns2 = ax.plot(cuda_lu_res[1:], label=\"CUDA Baseline+LU\")\n",
    "lns3 = ax.plot(cuda_2d_res[1:], label=\"CUDA 2D\")\n",
    "lns4 = ax.plot(cuda_2d_lu_res[1:], label=\"CUDA 2D+LU\")\n",
    "lns5 = ax.plot(cuda_shared[1:], label=\"CUDA shared mem\")\n",
    "lns6 = ax.plot(cuda_shared_lu[1:], label=\"CUDA shared mem+LU\")\n",
    "ax.set_ylabel(\"Execution Time (ms)\")\n",
    "ax.set_xticks(x)\n",
    "ax.set_xticklabels(labels[1:],rotation=45)\n",
    "# ax.set_xlabel(\"Benchmarks\")\n",
    "ax.set_axisbelow(True)\n",
    "ax.grid(True)\n",
    "ax.legend()\n",
    "plt.tight_layout()\n",
    "plt.savefig(\"cuda.png\",dpi=300)\n",
    "plt.show()\n",
    "# ax2 = ax.twinx()\n",
    "# lns1 = ax.plot(np_res, label=\"numpy\")\n",
    "# lns2 = ax2.plot(omp_res, label=\"openmp\",color=\"orange\")\n",
    "# ax.set_ylabel(\"Sklearn RF Execution Time (s)\")\n",
    "# ax2.set_ylabel(\"My RF Execution Time (s)\")\n",
    "# ax.set_xticks(x)\n",
    "# ax.set_xticklabels(labels)\n",
    "# ax.set_xlabel(\"# of trees\")\n",
    "# ax.set_axisbelow(True)\n",
    "# ax.yaxis.grid(color='gray', linestyle='dashed')\n",
    "# fig.tight_layout()\n",
    "# lns = lns1 + lns2\n",
    "# labs = [l.get_label() for l in lns]\n",
    "# ax.legend(lns, labs, loc=0)\n",
    "# plt.show()"
   ]
  },
  {
   "cell_type": "code",
   "execution_count": null,
   "metadata": {},
   "outputs": [],
   "source": [
    "fig, ax = plt.subplots(figsize=(10,5))\n",
    "x = np.arange(len(labels[1:]))\n",
    "lns1 = ax.plot(np_res[1:], label=\"NumPy\")\n",
    "lns2 = ax.plot(omp_res[1:], label=\"OpenMP\")\n",
    "lns3 = ax.plot(omp_lu_res[1:], label=\"OpenMP+LU\")\n",
    "lns6 = ax.plot(cuda_shared_lu[1:], label=\"CUDA shared mem+LU\")\n",
    "ax.set_yscale(\"log\")\n",
    "ax.set_ylabel(\"Execution Time (ms)\")\n",
    "ax.set_xticks(x)\n",
    "ax.set_xticklabels(labels[1:],rotation=45)\n",
    "# ax.set_xlabel(\"Benchmarks\")\n",
    "ax.set_axisbelow(True)\n",
    "ax.grid(True)\n",
    "ax.legend()\n",
    "plt.tight_layout()\n",
    "plt.savefig(\"cpu-gpu.png\",dpi=300)\n",
    "plt.show()"
   ]
  },
  {
   "cell_type": "code",
   "execution_count": null,
   "metadata": {},
   "outputs": [],
   "source": [
    "size2 = [235.825,0.264,0.228,0.220,0.343,0.347,7.628,4.931,41.744,26.192,23.787,25.337]\n",
    "size4 = [142.760,0.255,0.228,0.224,0.331,0.324,5.895,7.372,38.439,29.185,20.206,20.062]\n",
    "size8 = [143.695,0.241,0.232,0.231,0.392,0.350,6.203,4.013,35.374,26.633,26.188,19.066]\n",
    "size16 = [140.315,0.282,0.235,0.233,0.369,0.340,6.313,3.944,37.070,26.305,19.905,18.247]\n",
    "size28 = [135.329,0.264,0.248,0.241,0.355,0.324,7.229,8.542,42.373,34.831,36.246,26.181]\n",
    "fig, ax = plt.subplots(figsize=(10,5))\n",
    "x = np.arange(len(labels[1:]))\n",
    "ax.plot(size2[1:], label=\"$2\\\\times 2$\")\n",
    "ax.plot(size4[1:], label=\"$4\\\\times 4$\")\n",
    "ax.plot(size8[1:], label=\"$8\\\\times 8$\")\n",
    "ax.plot(size16[1:], label=\"$16\\\\times 16$\")\n",
    "ax.plot(size28[1:], label=\"$28\\\\times 28$\")\n",
    "# ax.set_yscale(\"log\")\n",
    "ax.set_ylabel(\"Execution Time (ms)\")\n",
    "ax.set_xticks(x)\n",
    "ax.set_xticklabels(labels[1:],rotation=45)\n",
    "# ax.set_xlabel(\"Benchmarks\")\n",
    "ax.set_axisbelow(True)\n",
    "ax.grid(True)\n",
    "ax.legend()\n",
    "plt.tight_layout()\n",
    "plt.savefig(\"blocksize.png\",dpi=300)\n",
    "plt.show()"
   ]
  },
  {
   "cell_type": "code",
   "execution_count": null,
   "metadata": {},
   "outputs": [],
   "source": []
  }
 ],
 "metadata": {
  "kernelspec": {
   "display_name": "Python 3",
   "language": "python",
   "name": "python3"
  },
  "language_info": {
   "codemirror_mode": {
    "name": "ipython",
    "version": 3
   },
   "file_extension": ".py",
   "mimetype": "text/x-python",
   "name": "python",
   "nbconvert_exporter": "python",
   "pygments_lexer": "ipython3",
   "version": "3.6.7"
  }
 },
 "nbformat": 4,
 "nbformat_minor": 2
}
