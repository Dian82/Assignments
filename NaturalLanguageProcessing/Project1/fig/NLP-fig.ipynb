{
 "cells": [
  {
   "cell_type": "code",
   "execution_count": 9,
   "metadata": {},
   "outputs": [
    {
     "data": {
      "image/png": "[encoded data removed]",
      "text/plain": [
       "<Figure size 432x252 with 1 Axes>"
      ]
     },
     "metadata": {},
     "output_type": "display_data"
    }
   ],
   "source": [
    "import matplotlib\n",
    "import matplotlib.pyplot as plt\n",
    "import numpy as np\n",
    "\n",
    "x_label = [\"Top 1\",\"Top 3\",\"Top 5\"]\n",
    "x = np.arange(0,len(x_label)*3,3)\n",
    "width = 0.25\n",
    "\n",
    "fig, ax = plt.subplots(1,1,figsize=(6,3.5))\n",
    "\n",
    "def draw_bar(ax,name):\n",
    "    global bar1,bar2,bar3,bar4,bar5\n",
    "    bar1 = ax.bar(x-3*width,gram2,width*2,alpha=0.9,label=\"2-gram\")\n",
    "    bar2 = ax.bar(x-1*width,gram3,width*2,alpha=0.9,label=\"3-gram\")\n",
    "    bar3 = ax.bar(x+1*width,gram4,width*2,alpha=0.9,label=\"4-gram\")\n",
    "    bar4 = ax.bar(x+3*width,lstm,width*2,alpha=0.9,label=\"LSTM\")\n",
    "    ax.set_xticks(x)\n",
    "    ax.set_xticklabels(x_label,rotation=0)\n",
    "    ax.set_ylabel(\"Accuracy\")\n",
    "    ax.set_axisbelow(True)\n",
    "    ax.legend(loc=0)\n",
    "    ax.grid(axis='y')\n",
    "\n",
    "gram2 = np.array([15,24,29],dtype=np.float)/100\n",
    "gram3 = np.array([19,19,19],dtype=np.float)/100\n",
    "gram4 = np.array([17,18,18],dtype=np.float)/100\n",
    "lstm = np.array([11,20,24],dtype=np.float)/100\n",
    "draw_bar(ax,\"\")\n",
    "\n",
    "fig.tight_layout()\n",
    "plt.savefig(r\"accuracy.pdf\",format=\"pdf\",dpi=200)\n",
    "plt.show()"
   ]
  },
  {
   "cell_type": "code",
   "execution_count": null,
   "metadata": {},
   "outputs": [],
   "source": []
  }
 ],
 "metadata": {
  "kernelspec": {
   "display_name": "Python 3",
   "language": "python",
   "name": "python3"
  },
  "language_info": {
   "codemirror_mode": {
    "name": "ipython",
    "version": 3
   },
   "file_extension": ".py",
   "mimetype": "text/x-python",
   "name": "python",
   "nbconvert_exporter": "python",
   "pygments_lexer": "ipython3",
   "version": "3.6.5"
  }
 },
 "nbformat": 4,
 "nbformat_minor": 2
}
