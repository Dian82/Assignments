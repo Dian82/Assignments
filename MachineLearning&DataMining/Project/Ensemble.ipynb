{
 "cells": [
  {
   "cell_type": "code",
   "execution_count": null,
   "metadata": {},
   "outputs": [],
   "source": [
    "import os, sys, time\n",
    "import multiprocessing\n",
    "import pickle\n",
    "import re, string\n",
    "import pandas as pd\n",
    "import numpy as np\n",
    "import matplotlib.pyplot as plt\n",
    "from collections import Counter"
   ]
  },
  {
   "cell_type": "markdown",
   "metadata": {},
   "source": [
    "## Preprocess\n",
    "\n",
    "TODO:\n",
    "* Add intermediate data storage\n",
    "* Remove stopping words first"
   ]
  },
  {
   "cell_type": "code",
   "execution_count": null,
   "metadata": {},
   "outputs": [],
   "source": [
    "data = pd.read_csv(\"mbti_1.csv\")\n",
    "stopwords = pd.read_csv(\"stopwords.csv\").to_numpy().reshape(-1)\n",
    "n_users = len(data)\n",
    "posts = data[\"posts\"]"
   ]
  },
  {
   "cell_type": "code",
   "execution_count": null,
   "metadata": {},
   "outputs": [],
   "source": [
    "fig, ax = plt.subplots(figsize=(10,4))\n",
    "type_val = data[\"type\"].value_counts()\n",
    "labels = type_val.keys()\n",
    "x = np.arange(len(labels))\n",
    "ax.bar(x, type_val.values)\n",
    "ax.set_ylabel(\"# of people\")\n",
    "ax.set_xticks(x)\n",
    "ax.set_xticklabels(labels,rotation='45')\n",
    "ax.set_axisbelow(True)\n",
    "ax.yaxis.grid(color='gray', linestyle='dashed')\n",
    "fig.tight_layout()\n",
    "plt.show()"
   ]
  },
  {
   "cell_type": "code",
   "execution_count": null,
   "metadata": {},
   "outputs": [],
   "source": [
    "def preprocess():\n",
    "    word_lst = []\n",
    "    user_posts = []\n",
    "    for uid in range(n_users):\n",
    "        # add empty space first (better used for regex parsing)\n",
    "        new_post = posts[uid].replace(\"|||\",\" ||| \")\n",
    "        new_post = new_post.replace(\",\",\", \")\n",
    "        # remove url links\n",
    "        new_post = re.sub(\"(http|https):\\/\\/.*?( |'|\\\")\",\"\",new_post)\n",
    "        # avoid words in two sentences merged together after removing spaces\n",
    "        new_post = new_post.replace(\".\",\". \")\n",
    "        new_post = new_post.replace(\"'\",\"' \")\n",
    "        # remove useless numbers and punctuations\n",
    "        new_post = re.sub(r\"[0-9]+\", \"\", new_post) \n",
    "        new_post = new_post.translate(str.maketrans('', '', string.punctuation))\n",
    "        # remove redundant empty spaces\n",
    "        new_post = re.sub(\" +\",\" \",new_post).strip()\n",
    "        # make all characters lower\n",
    "        new_post = new_post.lower()\n",
    "        temp = []\n",
    "        for word in new_post.split():\n",
    "            if len(word) != 1 and word not in stopwords:\n",
    "                temp.append(word)\n",
    "        user_posts.append(temp)\n",
    "        word_lst += user_posts[-1]\n",
    "        if uid * 100 % n_users == 0:\n",
    "            print(\"Done {}/{} = {}%\".format(uid,n_users,uid*100/n_users))\n",
    "    print(\"Finished generating word list\")\n",
    "\n",
    "    # make dictionary (bag of words, BOW)\n",
    "    word_counts = Counter(word_lst)\n",
    "    word_counts[\"<UNK>\"] = max(word_counts.values()) + 1\n",
    "    # remove words that don’t occur too frequently\n",
    "    print(\"# of words before:\",len(word_counts))\n",
    "    for word in list(word_counts): # avoid changing size\n",
    "        if word_counts[word] < 3:\n",
    "            del word_counts[word]\n",
    "    print(\"# of words after:\",len(word_counts))\n",
    "    # sort based on counts, but only remain the word strings\n",
    "    sorted_vocab = sorted(word_counts, key=word_counts.get, reverse=True)\n",
    "\n",
    "    # make embedding based on the occurance frequency of the words\n",
    "    int_to_word = {k: w for k, w in enumerate(sorted_vocab)}\n",
    "    word_to_int = {w: k for k, w in int_to_word.items()}\n",
    "    n_word = len(int_to_word)\n",
    "    print('Vocabulary size:', n_word)\n",
    "    return word_to_int\n",
    "\n",
    "preprocess()"
   ]
  },
  {
   "cell_type": "code",
   "execution_count": null,
   "metadata": {},
   "outputs": [],
   "source": []
  }
 ],
 "metadata": {
  "kernelspec": {
   "display_name": "Python 3",
   "language": "python",
   "name": "python3"
  },
  "language_info": {
   "codemirror_mode": {
    "name": "ipython",
    "version": 3
   },
   "file_extension": ".py",
   "mimetype": "text/x-python",
   "name": "python",
   "nbconvert_exporter": "python",
   "pygments_lexer": "ipython3",
   "version": "3.7.6"
  }
 },
 "nbformat": 4,
 "nbformat_minor": 4
}
