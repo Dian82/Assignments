{
 "cells": [
  {
   "cell_type": "code",
   "execution_count": null,
   "metadata": {},
   "outputs": [],
   "source": [
    "import matplotlib.pyplot as plt\n",
    "import numpy as np\n",
    "import matplotlib.ticker as mtick"
   ]
  },
  {
   "cell_type": "code",
   "execution_count": null,
   "metadata": {},
   "outputs": [],
   "source": [
    "labels = [\"1\",\"3\",\"5\",\"10\"]\n",
    "sklearn_rf = [24.05,27.39,33.19,36.30]\n",
    "my_rf = [27.73,28.66,31.08,32.19]\n",
    "\n",
    "fig, ax = plt.subplots(figsize=(5,3))\n",
    "x = np.arange(len(labels))\n",
    "ax.bar(x-0.1, my_rf, width=0.2,label=\"myrf\")\n",
    "ax.bar(x+0.1, sklearn_rf, width=0.2,label=\"sklearn\")\n",
    "ax.set_ylabel(\"Accuracy\")\n",
    "ax.set_xticks(x)\n",
    "ax.set_xticklabels(labels)\n",
    "ax.set_xlabel(\"# of trees\")\n",
    "ax.set_axisbelow(True)\n",
    "ax.yaxis.grid(color='gray', linestyle='dashed')\n",
    "fmt = '%.0f%%' # Format you want the ticks, e.g. '40%'\n",
    "yticks = mtick.FormatStrFormatter(fmt)\n",
    "# ax.yaxis.set_major_formatter(mtick.PercentFormatter())\n",
    "ax.yaxis.set_major_formatter(yticks)\n",
    "ax.legend()\n",
    "fig.tight_layout()\n",
    "plt.show()"
   ]
  },
  {
   "cell_type": "code",
   "execution_count": null,
   "metadata": {},
   "outputs": [],
   "source": [
    "labels = [\"1\",\"3\",\"5\",\"10\"]\n",
    "sklearn_rf = [0.4,0.4,0.6,1.1]\n",
    "my_rf = [1521.38,1569.91,1573.52,1689.36]\n",
    "\n",
    "fig, ax = plt.subplots(figsize=(5,3))\n",
    "x = np.arange(len(labels))\n",
    "ax2 = ax.twinx()\n",
    "lns1 = ax.plot(sklearn_rf, label=\"sklearn\")\n",
    "lns2 = ax2.plot(my_rf, label=\"myrf\",color=\"orange\")\n",
    "ax.set_ylabel(\"Sklearn RF Execution Time (s)\")\n",
    "ax2.set_ylabel(\"My RF Execution Time (s)\")\n",
    "ax.set_xticks(x)\n",
    "ax.set_xticklabels(labels)\n",
    "ax.set_xlabel(\"# of trees\")\n",
    "ax.set_axisbelow(True)\n",
    "ax.yaxis.grid(color='gray', linestyle='dashed')\n",
    "fig.tight_layout()\n",
    "lns = lns1 + lns2\n",
    "labs = [l.get_label() for l in lns]\n",
    "ax.legend(lns, labs, loc=0)\n",
    "plt.show()"
   ]
  },
  {
   "cell_type": "code",
   "execution_count": null,
   "metadata": {},
   "outputs": [],
   "source": []
  }
 ],
 "metadata": {
  "kernelspec": {
   "display_name": "Python 3",
   "language": "python",
   "name": "python3"
  },
  "language_info": {
   "codemirror_mode": {
    "name": "ipython",
    "version": 3
   },
   "file_extension": ".py",
   "mimetype": "text/x-python",
   "name": "python",
   "nbconvert_exporter": "python",
   "pygments_lexer": "ipython3",
   "version": "3.6.7"
  }
 },
 "nbformat": 4,
 "nbformat_minor": 2
}
